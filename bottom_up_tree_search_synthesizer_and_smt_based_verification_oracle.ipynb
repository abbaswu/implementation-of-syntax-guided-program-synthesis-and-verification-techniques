{
 "cells": [
  {
   "cell_type": "markdown",
   "id": "edae0f1a-d6ae-429b-9530-ab7813204eab",
   "metadata": {},
   "source": [
    "# Bottom Up Tree Search Synthesizer and SMT Based Verification Oracle\n",
    "\n",
    "The Bottom Up Tree Search Synthesizer accepts a CFG written in z3 expressions and synthesizes z3 expressions, and the SMT Based Verification Oracle operates on z3 expressions."
   ]
  },
  {
   "cell_type": "code",
   "execution_count": 1,
   "id": "176a4415-b1e0-4d25-8898-f494dfa66e20",
   "metadata": {},
   "outputs": [],
   "source": [
    "from z3 import *\n",
    "\n",
    "from iterate_z3_components_in_z3_expr_ref_in_reverse_polish_notation import iterate_z3_components_in_z3_expr_ref_in_reverse_polish_notation\n",
    "\n",
    "\n",
    "z3_S = Int('S')\n",
    "z3_B = Bool('B')\n",
    "z3_x = Int('x')\n",
    "z3_y = Int('y')\n",
    "\n",
    "z3_non_terminals = { z3_S, z3_B }\n",
    "z3_terminals = { z3_x, z3_y }\n",
    "# non_terminals to a set of tuples containing the production_rule in reverse_polish_notation\n",
    "z3_production_rules = {\n",
    "  z3_S: {\n",
    "    # x\n",
    "    tuple(iterate_z3_components_in_z3_expr_ref_in_reverse_polish_notation(z3_x)),\n",
    "    # y\n",
    "    tuple(iterate_z3_components_in_z3_expr_ref_in_reverse_polish_notation(z3_y)),\n",
    "    # 0\n",
    "    tuple(iterate_z3_components_in_z3_expr_ref_in_reverse_polish_notation(IntVal(0))),\n",
    "    # 1\n",
    "    tuple(iterate_z3_components_in_z3_expr_ref_in_reverse_polish_notation(IntVal(1))),\n",
    "    # + S S\n",
    "    tuple(iterate_z3_components_in_z3_expr_ref_in_reverse_polish_notation(z3_S + z3_S)),\n",
    "    # - S S\n",
    "    tuple(iterate_z3_components_in_z3_expr_ref_in_reverse_polish_notation(z3_S - z3_S)),\n",
    "    # ite B S S\n",
    "    tuple(iterate_z3_components_in_z3_expr_ref_in_reverse_polish_notation(If(z3_B, z3_S, z3_S))),\n",
    "  },\n",
    "  z3_B: {\n",
    "    # and B B\n",
    "    tuple(iterate_z3_components_in_z3_expr_ref_in_reverse_polish_notation(And(z3_B, z3_B))),\n",
    "    # or B B\n",
    "    tuple(iterate_z3_components_in_z3_expr_ref_in_reverse_polish_notation(Or(z3_B, z3_B))),\n",
    "    # not B\n",
    "    tuple(iterate_z3_components_in_z3_expr_ref_in_reverse_polish_notation(Not(z3_B))),\n",
    "    # <= S S\n",
    "    tuple(iterate_z3_components_in_z3_expr_ref_in_reverse_polish_notation(z3_S <= z3_S)),\n",
    "    # = S S\n",
    "    tuple(iterate_z3_components_in_z3_expr_ref_in_reverse_polish_notation(z3_S == z3_S)),\n",
    "    # >= S S\n",
    "    tuple(iterate_z3_components_in_z3_expr_ref_in_reverse_polish_notation(z3_S >= z3_S)),\n",
    "  }\n",
    "}\n",
    "z3_start_symbol = z3_S\n",
    "\n",
    "\n",
    "z3_input_variable_list = [z3_x, z3_y]\n",
    "z3_function_declaration = max2 = Function('max2', IntSort(), IntSort(), IntSort())\n",
    "z3_constraint = And(max2(z3_x, z3_y) >= z3_x, max2(z3_x, z3_y) >= z3_y, Or(max2(z3_y, z3_x) == z3_x, max2(z3_y, z3_x) == z3_y))"
   ]
  },
  {
   "cell_type": "markdown",
   "id": "46951fc9-c1d8-4b52-8647-f2b9632c1cf6",
   "metadata": {},
   "source": [
    "## Initializing `z3_verification_oracle_instance`"
   ]
  },
  {
   "cell_type": "code",
   "execution_count": 2,
   "id": "587aefca-24bf-47dd-b95f-23b0d79b8ec7",
   "metadata": {},
   "outputs": [],
   "source": [
    "from z3_verification_oracle import z3_verification_oracle\n",
    "\n",
    "\n",
    "z3_verification_oracle_instance = z3_verification_oracle(z3_input_variable_list, z3_function_declaration, z3_constraint)\n",
    "next(z3_verification_oracle_instance)"
   ]
  },
  {
   "cell_type": "markdown",
   "id": "e6efe014-f284-4831-b646-b959f2c662ec",
   "metadata": {},
   "source": [
    "## Initializing `z3_bottom_up_tree_search_instance`"
   ]
  },
  {
   "cell_type": "code",
   "execution_count": 3,
   "id": "5bcb5562-82d6-45d4-b78a-ed4cdcbf3c5b",
   "metadata": {},
   "outputs": [],
   "source": [
    "from z3_bottom_up_tree_search import z3_bottom_up_tree_search\n",
    "\n",
    "z3_bottom_up_tree_search_instance = z3_bottom_up_tree_search(\n",
    "    z3_non_terminals,\n",
    "    z3_terminals,\n",
    "    z3_production_rules,\n",
    "    z3_start_symbol,\n",
    "    z3_function_declaration,\n",
    "    z3_constraint\n",
    ")"
   ]
  },
  {
   "cell_type": "markdown",
   "id": "3124828f-f686-4d60-946c-d2640c8fdaa2",
   "metadata": {},
   "source": [
    "## Program Synthesis and Verification"
   ]
  },
  {
   "cell_type": "code",
   "execution_count": 4,
   "id": "fd01cf80-aafa-475a-bdcc-526e01111252",
   "metadata": {},
   "outputs": [],
   "source": [
    "z3_expr_ref = next(z3_bottom_up_tree_search_instance)"
   ]
  },
  {
   "cell_type": "code",
   "execution_count": 5,
   "id": "ef5c6081-3c00-49e6-8b65-ff4b2b7b4902",
   "metadata": {},
   "outputs": [
    {
     "name": "stdout",
     "output_type": "stream",
     "text": [
      "z3_expr_ref x\n",
      "z3_counterexample_input frozendict.frozendict({x: -1, y: 0})\n"
     ]
    }
   ],
   "source": [
    "print(f'z3_expr_ref {z3_expr_ref}')\n",
    "\n",
    "z3_counterexample_input = z3_verification_oracle_instance.send(z3_expr_ref)\n",
    "\n",
    "if z3_counterexample_input is not None:\n",
    "    z3_expr_ref = z3_bottom_up_tree_search_instance.send(z3_counterexample_input)\n",
    "    \n",
    "print(f'z3_counterexample_input {z3_counterexample_input}')"
   ]
  },
  {
   "cell_type": "code",
   "execution_count": 6,
   "id": "aa769b01-2e0d-4775-9bd7-8628a44c23c4",
   "metadata": {},
   "outputs": [
    {
     "name": "stdout",
     "output_type": "stream",
     "text": [
      "z3_expr_ref 0\n",
      "skipped 1\n",
      "z3_counterexample_input frozendict.frozendict({x: -1, y: -1})\n"
     ]
    }
   ],
   "source": [
    "print(f'z3_expr_ref {z3_expr_ref}')\n",
    "\n",
    "z3_counterexample_input = z3_verification_oracle_instance.send(z3_expr_ref)\n",
    "\n",
    "if z3_counterexample_input is not None:\n",
    "    z3_expr_ref = z3_bottom_up_tree_search_instance.send(z3_counterexample_input)\n",
    "    \n",
    "print(f'z3_counterexample_input {z3_counterexample_input}')"
   ]
  },
  {
   "cell_type": "code",
   "execution_count": 7,
   "id": "9d32e58c-119c-4fad-a73b-976175f105ab",
   "metadata": {},
   "outputs": [
    {
     "name": "stdout",
     "output_type": "stream",
     "text": [
      "z3_expr_ref y\n",
      "skipped 2*x\n",
      "skipped 1 + x\n",
      "skipped x + y\n",
      "skipped 2\n",
      "skipped 1 + y\n",
      "skipped y + x\n",
      "skipped 2*y\n",
      "skipped -1 + x\n",
      "skipped x + -1*y\n",
      "skipped -1*x\n",
      "skipped -1\n",
      "skipped -1*y\n",
      "skipped 1 + -1*x\n",
      "skipped 1 + -1*y\n",
      "skipped y + -1*x\n",
      "skipped -1 + y\n",
      "skipped 3*x\n",
      "skipped 1 + 2*x\n",
      "skipped 2*x + y\n",
      "skipped 2 + x\n",
      "z3_counterexample_input frozendict.frozendict({x: 0, y: -1})\n"
     ]
    }
   ],
   "source": [
    "print(f'z3_expr_ref {z3_expr_ref}')\n",
    "\n",
    "z3_counterexample_input = z3_verification_oracle_instance.send(z3_expr_ref)\n",
    "\n",
    "if z3_counterexample_input is not None:\n",
    "    z3_expr_ref = z3_bottom_up_tree_search_instance.send(z3_counterexample_input)\n",
    "    \n",
    "print(f'z3_counterexample_input {z3_counterexample_input}')"
   ]
  },
  {
   "cell_type": "code",
   "execution_count": 8,
   "id": "a3c1951b-2516-40ef-97e8-4e960084dba2",
   "metadata": {},
   "outputs": [
    {
     "name": "stdout",
     "output_type": "stream",
     "text": [
      "z3_expr_ref 1 + x + y\n",
      "skipped x + 2*y\n",
      "skipped -1 + 2*x\n",
      "skipped 2*x + -1*y\n",
      "skipped 1 + x + -1*y\n",
      "skipped -1 + x + y\n",
      "skipped 3\n",
      "skipped 2 + y\n",
      "skipped 1 + y + x\n",
      "skipped 1 + 2*y\n",
      "skipped 2 + -1*x\n",
      "skipped 2 + -1*y\n",
      "skipped 1 + y + -1*x\n",
      "skipped y + 2*x\n",
      "skipped 2*y + x\n",
      "skipped 3*y\n",
      "skipped -1 + y + x\n",
      "skipped 2*y + -1*x\n",
      "skipped -1 + 2*y\n",
      "skipped -1*x + y\n",
      "skipped -1*y + x\n",
      "skipped 1 + -1*x + y\n",
      "skipped 1 + -1*y + x\n",
      "skipped -2 + x\n",
      "skipped -1 + x + -1*y\n",
      "skipped x + -2*y\n",
      "skipped -2*x\n",
      "skipped -1 + -1*x\n",
      "skipped -1*x + -1*y\n",
      "skipped -2\n",
      "skipped -1 + -1*y\n",
      "skipped -1*y + -1*x\n",
      "skipped -2*y\n",
      "skipped 1 + -2*x\n",
      "skipped 1 + -1*x + -1*y\n",
      "skipped 1 + -1*y + -1*x\n",
      "skipped 1 + -2*y\n",
      "skipped y + -2*x\n",
      "skipped -1 + y + -1*x\n",
      "skipped -2 + y\n",
      "skipped 4*x\n",
      "skipped 1 + 3*x\n",
      "skipped 3*x + y\n",
      "skipped 2 + 2*x\n",
      "skipped 1 + 2*x + y\n",
      "skipped 2*x + 2*y\n",
      "skipped -1 + 3*x\n",
      "skipped 3*x + -1*y\n",
      "skipped 1 + 2*x + -1*y\n",
      "skipped -1 + 2*x + y\n",
      "skipped 3 + x\n",
      "skipped 2 + x + y\n",
      "skipped 1 + x + 2*y\n",
      "skipped 2 + x + -1*y\n",
      "skipped x + 3*y\n",
      "skipped -1 + x + 2*y\n",
      "skipped -2 + 2*x\n",
      "skipped -1 + 2*x + -1*y\n",
      "skipped 2*x + -2*y\n",
      "skipped 1 + x + -2*y\n",
      "skipped -2 + x + y\n",
      "skipped 4\n",
      "skipped 3 + y\n",
      "skipped 2 + y + x\n",
      "skipped 2 + 2*y\n",
      "skipped 3 + -1*x\n",
      "skipped 3 + -1*y\n",
      "skipped 2 + y + -1*x\n",
      "skipped 1 + y + 2*x\n",
      "skipped 1 + 2*y + x\n",
      "skipped 1 + 3*y\n",
      "skipped 1 + 2*y + -1*x\n",
      "skipped 2 + -1*x + y\n",
      "skipped 2 + -1*y + x\n",
      "skipped 2 + -2*x\n",
      "skipped 2 + -1*x + -1*y\n",
      "skipped 2 + -1*y + -1*x\n",
      "skipped 2 + -2*y\n",
      "skipped 1 + y + -2*x\n",
      "skipped y + 3*x\n",
      "skipped 2*y + 2*x\n",
      "skipped 3*y + x\n",
      "skipped -1 + y + 2*x\n",
      "skipped -1 + 2*y + x\n",
      "skipped 4*y\n",
      "skipped 3*y + -1*x\n",
      "skipped -1 + 3*y\n",
      "skipped -2 + y + x\n",
      "skipped 2*y + -2*x\n",
      "skipped -1 + 2*y + -1*x\n",
      "skipped -2 + 2*y\n",
      "skipped -1*x + 2*y\n",
      "skipped -2*x + y\n",
      "skipped -1 + -1*x + y\n",
      "skipped -1*y + 2*x\n",
      "skipped -1 + -1*y + x\n",
      "skipped -2*y + x\n",
      "skipped 1 + -1*x + 2*y\n",
      "skipped 1 + -2*x + y\n",
      "skipped 1 + -1*y + 2*x\n",
      "skipped 1 + -2*y + x\n",
      "skipped -3 + x\n",
      "skipped -2 + x + -1*y\n",
      "skipped -1 + x + -2*y\n",
      "skipped x + -3*y\n",
      "skipped -3*x\n",
      "skipped -1 + -2*x\n",
      "skipped -2*x + -1*y\n",
      "skipped -2 + -1*x\n",
      "skipped -1 + -1*x + -1*y\n",
      "skipped -1*x + -2*y\n",
      "skipped -3\n",
      "skipped -2 + -1*y\n",
      "skipped -1 + -1*y + -1*x\n",
      "skipped -1 + -2*y\n",
      "skipped -1*y + -2*x\n",
      "skipped -2*y + -1*x\n",
      "skipped -3*y\n",
      "skipped 1 + -3*x\n",
      "skipped 1 + -2*x + -1*y\n",
      "skipped 1 + -1*x + -2*y\n",
      "skipped 1 + -1*y + -2*x\n",
      "skipped 1 + -2*y + -1*x\n",
      "skipped 1 + -3*y\n",
      "skipped y + -3*x\n",
      "skipped -1 + y + -2*x\n",
      "skipped -2 + y + -1*x\n",
      "skipped -3 + y\n",
      "skipped If(x >= 0, x, 0)\n",
      "skipped If(x >= 0, x, 1)\n",
      "z3_counterexample_input frozendict.frozendict({x: 0, y: 0})\n"
     ]
    }
   ],
   "source": [
    "print(f'z3_expr_ref {z3_expr_ref}')\n",
    "\n",
    "z3_counterexample_input = z3_verification_oracle_instance.send(z3_expr_ref)\n",
    "\n",
    "if z3_counterexample_input is not None:\n",
    "    z3_expr_ref = z3_bottom_up_tree_search_instance.send(z3_counterexample_input)\n",
    "    \n",
    "print(f'z3_counterexample_input {z3_counterexample_input}')"
   ]
  },
  {
   "cell_type": "code",
   "execution_count": 9,
   "id": "39258a46-d5d8-4650-b2cd-ded9808edb6d",
   "metadata": {},
   "outputs": [
    {
     "name": "stdout",
     "output_type": "stream",
     "text": [
      "z3_expr_ref If(x >= 0, x, y)\n",
      "skipped If(x >= 0, 0, x)\n",
      "skipped If(x >= 0, 0, 1)\n",
      "skipped If(x >= 0, 0, y)\n",
      "skipped If(x >= 0, 1, x)\n",
      "skipped If(x >= 0, 1, 0)\n",
      "skipped If(x >= 0, 1, y)\n",
      "skipped If(x >= 0, y, x)\n",
      "skipped If(x >= 0, y, 0)\n",
      "skipped If(x >= 0, y, 1)\n",
      "skipped If(x >= 1, x, 0)\n",
      "skipped If(x >= 1, x, 1)\n",
      "skipped If(x >= 1, x, y)\n",
      "skipped If(x >= 1, 0, x)\n",
      "skipped If(x >= 1, 0, 1)\n",
      "skipped If(x >= 1, 0, y)\n",
      "skipped If(x >= 1, 1, x)\n",
      "skipped If(x >= 1, 1, 0)\n",
      "skipped If(x >= 1, 1, y)\n",
      "skipped If(x >= 1, y, x)\n",
      "skipped If(x >= 1, y, 0)\n",
      "skipped If(x >= 1, y, 1)\n",
      "skipped If(x >= y, x, 0)\n",
      "skipped If(x >= y, x, 1)\n",
      "z3_counterexample_input frozendict.frozendict({x: -1, y: -2})\n"
     ]
    }
   ],
   "source": [
    "print(f'z3_expr_ref {z3_expr_ref}')\n",
    "\n",
    "z3_counterexample_input = z3_verification_oracle_instance.send(z3_expr_ref)\n",
    "\n",
    "if z3_counterexample_input is not None:\n",
    "    z3_expr_ref = z3_bottom_up_tree_search_instance.send(z3_counterexample_input)\n",
    "    \n",
    "print(f'z3_counterexample_input {z3_counterexample_input}')"
   ]
  },
  {
   "cell_type": "code",
   "execution_count": 10,
   "id": "74ac70b7-7650-45ff-99e6-5e0b6630ee56",
   "metadata": {},
   "outputs": [
    {
     "name": "stdout",
     "output_type": "stream",
     "text": [
      "z3_expr_ref If(x >= y, x, y)\n",
      "z3_counterexample_input None\n"
     ]
    }
   ],
   "source": [
    "print(f'z3_expr_ref {z3_expr_ref}')\n",
    "\n",
    "z3_counterexample_input = z3_verification_oracle_instance.send(z3_expr_ref)\n",
    "\n",
    "if z3_counterexample_input is not None:\n",
    "    z3_expr_ref = z3_bottom_up_tree_search_instance.send(z3_counterexample_input)\n",
    "    \n",
    "print(f'z3_counterexample_input {z3_counterexample_input}')"
   ]
  },
  {
   "cell_type": "code",
   "execution_count": null,
   "id": "bf8d1632-73d9-40c4-90c6-e0a44a70bdde",
   "metadata": {},
   "outputs": [],
   "source": []
  }
 ],
 "metadata": {
  "kernelspec": {
   "display_name": "Python 3 (ipykernel)",
   "language": "python",
   "name": "python3"
  },
  "language_info": {
   "codemirror_mode": {
    "name": "ipython",
    "version": 3
   },
   "file_extension": ".py",
   "mimetype": "text/x-python",
   "name": "python",
   "nbconvert_exporter": "python",
   "pygments_lexer": "ipython3",
   "version": "3.8.13"
  }
 },
 "nbformat": 4,
 "nbformat_minor": 5
}
