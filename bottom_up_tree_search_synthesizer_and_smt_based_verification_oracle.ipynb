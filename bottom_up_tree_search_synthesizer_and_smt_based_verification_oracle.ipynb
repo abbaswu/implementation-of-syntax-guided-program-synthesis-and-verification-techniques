{
 "cells": [
  {
   "cell_type": "markdown",
   "id": "edae0f1a-d6ae-429b-9530-ab7813204eab",
   "metadata": {},
   "source": [
    "# Bottom Up Tree Search Synthesizer and SMT Based Verification Oracle\n",
    "\n",
    "The Bottom Up Tree Search Synthesizer accepts a CFG written in sympy expressions and synthesizes sympy expressions, while the SMT Based Verification Oracle operates on z3 expressions."
   ]
  },
  {
   "cell_type": "markdown",
   "id": "46951fc9-c1d8-4b52-8647-f2b9632c1cf6",
   "metadata": {},
   "source": [
    "## Initializing `verification_oracle_instance`"
   ]
  },
  {
   "cell_type": "code",
   "execution_count": 1,
   "id": "587aefca-24bf-47dd-b95f-23b0d79b8ec7",
   "metadata": {},
   "outputs": [],
   "source": [
    "from z3 import *\n",
    "\n",
    "from verification_oracle import verification_oracle\n",
    "\n",
    "\n",
    "z3_x = Int('x')\n",
    "z3_y = Int('y')\n",
    "\n",
    "z3_input_variable_list = [z3_x, z3_y]\n",
    "z3_function_declaration = max2 = Function('max2', IntSort(), IntSort(), IntSort())\n",
    "z3_constraint = And(max2(z3_x, z3_y) >= z3_x, max2(z3_x, z3_y) >= z3_y, Or(max2(z3_y, z3_x) == z3_x, max2(z3_y, z3_x) == z3_y))\n",
    "\n",
    "verification_oracle_instance = verification_oracle(z3_input_variable_list, z3_function_declaration, z3_constraint)\n",
    "next(verification_oracle_instance)"
   ]
  },
  {
   "cell_type": "markdown",
   "id": "e6efe014-f284-4831-b646-b959f2c662ec",
   "metadata": {},
   "source": [
    "## Initializing `bottom_up_tree_search_instance`"
   ]
  },
  {
   "cell_type": "code",
   "execution_count": 2,
   "id": "3858d340-31f0-4ad7-89da-01f3ed789d2a",
   "metadata": {},
   "outputs": [],
   "source": [
    "from sympy.core.add import Add\n",
    "from sympy.core.function import Function\n",
    "from sympy.core.mul import Mul\n",
    "from sympy.core.numbers import Integer\n",
    "from sympy.core.relational import Equality, GreaterThan, LessThan\n",
    "from sympy.core.symbol import Symbol\n",
    "from sympy.logic.boolalg import And, Or, Not\n",
    "from sympy.functions.elementary.piecewise import ExprCondPair, Piecewise\n",
    "\n",
    "\n",
    "S = Symbol('S')\n",
    "B = Symbol('B')\n",
    "x = Symbol('x')\n",
    "y = Symbol('y')\n",
    "\n",
    "non_terminals = { S, B }\n",
    "terminals = { x, y }\n",
    "# non_terminals to a set of tuples containing the production_rule in reverse_polish_notation\n",
    "production_rules = {\n",
    "  S: {\n",
    "    # x\n",
    "    (x,),\n",
    "    # y\n",
    "    (y,),\n",
    "    # 0\n",
    "    (Integer(0),),\n",
    "    # 1\n",
    "    (Integer(1),),\n",
    "    # + S S\n",
    "    (S, S, (Add, 2)),\n",
    "    # - S S\n",
    "    (S, Integer(-1), S, (Mul, 2), (Add, 2)),\n",
    "    # ite B S S\n",
    "    (S, B, (ExprCondPair, 2), S, True, (ExprCondPair, 2), (Piecewise, 2)),\n",
    "  },\n",
    "  B: {\n",
    "    # and B B\n",
    "    (B, B, (And, 2)),\n",
    "    # or B B\n",
    "    (B, B, (Or, 2)),\n",
    "    # not B\n",
    "    (B, (Not, 1)),\n",
    "    # <= S S\n",
    "    (S, S, (LessThan, 2)),\n",
    "    # = S S\n",
    "    (S, S, (Equality, 2)),\n",
    "    # >= S S\n",
    "    (S, S, (GreaterThan, 2)),\n",
    "  }\n",
    "}\n",
    "start_symbol = S\n",
    "\n",
    "function_declaration = max2 = Function('max2')\n",
    "constraint = And(GreaterThan(max2(x, y), x), GreaterThan(max2(x, y), y), Or(Equality(max2(y, x), x), Equality(max2(y, x), y)))"
   ]
  },
  {
   "cell_type": "code",
   "execution_count": 3,
   "id": "5bcb5562-82d6-45d4-b78a-ed4cdcbf3c5b",
   "metadata": {},
   "outputs": [],
   "source": [
    "from bottom_up_tree_search import bottom_up_tree_search\n",
    "\n",
    "bottom_up_tree_search_instance = bottom_up_tree_search(\n",
    "    non_terminals,\n",
    "    terminals,\n",
    "    production_rules,\n",
    "    start_symbol,\n",
    "    function_declaration,\n",
    "    constraint\n",
    ")"
   ]
  },
  {
   "cell_type": "markdown",
   "id": "48ba5ab2-0167-4b89-91d9-00d5f4f94000",
   "metadata": {},
   "source": [
    "## Conversion between sympy expressions and z3 expressions"
   ]
  },
  {
   "cell_type": "code",
   "execution_count": 4,
   "id": "e29b92f2-85eb-4fc4-b88c-19a226409de3",
   "metadata": {},
   "outputs": [],
   "source": [
    "from sympy_expr_to_z3_expr_ref import sympy_expr_to_z3_expr_ref\n",
    "from z3_expr_ref_to_sympy_expr import z3_expr_ref_to_sympy_expr\n",
    "\n",
    "sympy_symbols_to_z3_expr_ref = {\n",
    "    x: z3_x,\n",
    "    y: z3_y\n",
    "}\n",
    "\n",
    "z3_expr_ref_to_sympy_symbols = {\n",
    "    z3_x: x,\n",
    "    z3_y: y\n",
    "}"
   ]
  },
  {
   "cell_type": "markdown",
   "id": "3124828f-f686-4d60-946c-d2640c8fdaa2",
   "metadata": {},
   "source": [
    "## Program Synthesis and Verification"
   ]
  },
  {
   "cell_type": "code",
   "execution_count": 5,
   "id": "b9f14a70-773b-4d7e-9d7b-21db87e45a41",
   "metadata": {},
   "outputs": [],
   "source": [
    "from frozendict import frozendict"
   ]
  },
  {
   "cell_type": "code",
   "execution_count": 6,
   "id": "fd01cf80-aafa-475a-bdcc-526e01111252",
   "metadata": {},
   "outputs": [],
   "source": [
    "sympy_expr = next(bottom_up_tree_search_instance)"
   ]
  },
  {
   "cell_type": "code",
   "execution_count": 7,
   "id": "ef5c6081-3c00-49e6-8b65-ff4b2b7b4902",
   "metadata": {},
   "outputs": [
    {
     "name": "stdout",
     "output_type": "stream",
     "text": [
      "sympy_expr x\n",
      "skipped 1\n",
      "z3_counterexample_input {x: -1, y: 0}\n"
     ]
    }
   ],
   "source": [
    "print(f'sympy_expr {sympy_expr}')\n",
    "\n",
    "z3_expr_ref = sympy_expr_to_z3_expr_ref(sympy_symbols_to_z3_expr_ref, sympy_expr)\n",
    "z3_counterexample_input = verification_oracle_instance.send(z3_expr_ref)\n",
    "\n",
    "if z3_counterexample_input is not None:\n",
    "    counterexample_input = frozendict((\n",
    "        (z3_expr_ref_to_sympy_expr(z3_expr_ref_to_sympy_symbols, key), z3_expr_ref_to_sympy_expr(z3_expr_ref_to_sympy_symbols, value))\n",
    "        for key, value in z3_counterexample_input.items()\n",
    "    ))\n",
    "\n",
    "    sympy_expr = bottom_up_tree_search_instance.send(counterexample_input)\n",
    "    \n",
    "print(f'z3_counterexample_input {z3_counterexample_input}')"
   ]
  },
  {
   "cell_type": "code",
   "execution_count": 8,
   "id": "aa769b01-2e0d-4775-9bd7-8628a44c23c4",
   "metadata": {},
   "outputs": [
    {
     "name": "stdout",
     "output_type": "stream",
     "text": [
      "sympy_expr 0\n",
      "z3_counterexample_input {x: -1, y: -1}\n"
     ]
    }
   ],
   "source": [
    "print(f'sympy_expr {sympy_expr}')\n",
    "\n",
    "z3_expr_ref = sympy_expr_to_z3_expr_ref(sympy_symbols_to_z3_expr_ref, sympy_expr)\n",
    "z3_counterexample_input = verification_oracle_instance.send(z3_expr_ref)\n",
    "\n",
    "if z3_counterexample_input is not None:\n",
    "    counterexample_input = frozendict((\n",
    "        (z3_expr_ref_to_sympy_expr(z3_expr_ref_to_sympy_symbols, key), z3_expr_ref_to_sympy_expr(z3_expr_ref_to_sympy_symbols, value))\n",
    "        for key, value in z3_counterexample_input.items()\n",
    "    ))\n",
    "\n",
    "    sympy_expr = bottom_up_tree_search_instance.send(counterexample_input)\n",
    "    \n",
    "print(f'z3_counterexample_input {z3_counterexample_input}')"
   ]
  },
  {
   "cell_type": "code",
   "execution_count": 9,
   "id": "9d32e58c-119c-4fad-a73b-976175f105ab",
   "metadata": {},
   "outputs": [
    {
     "name": "stdout",
     "output_type": "stream",
     "text": [
      "sympy_expr y\n",
      "skipped 2*x\n",
      "skipped x + 1\n",
      "skipped x + y\n",
      "skipped 2\n",
      "skipped y + 1\n",
      "skipped 2*y\n",
      "skipped x - 1\n",
      "skipped x - y\n",
      "skipped 1 - x\n",
      "skipped 1 - y\n",
      "skipped -x\n",
      "skipped -1\n",
      "skipped -y\n",
      "skipped -x + y\n",
      "skipped y - 1\n",
      "skipped 3*x\n",
      "skipped 2*x + 1\n",
      "skipped 2*x + y\n",
      "skipped x + 2\n",
      "z3_counterexample_input {x: 0, y: -1}\n"
     ]
    }
   ],
   "source": [
    "print(f'sympy_expr {sympy_expr}')\n",
    "\n",
    "z3_expr_ref = sympy_expr_to_z3_expr_ref(sympy_symbols_to_z3_expr_ref, sympy_expr)\n",
    "z3_counterexample_input = verification_oracle_instance.send(z3_expr_ref)\n",
    "\n",
    "if z3_counterexample_input is not None:\n",
    "    counterexample_input = frozendict((\n",
    "        (z3_expr_ref_to_sympy_expr(z3_expr_ref_to_sympy_symbols, key), z3_expr_ref_to_sympy_expr(z3_expr_ref_to_sympy_symbols, value))\n",
    "        for key, value in z3_counterexample_input.items()\n",
    "    ))\n",
    "\n",
    "    sympy_expr = bottom_up_tree_search_instance.send(counterexample_input)\n",
    "    \n",
    "print(f'z3_counterexample_input {z3_counterexample_input}')"
   ]
  },
  {
   "cell_type": "code",
   "execution_count": 10,
   "id": "a3c1951b-2516-40ef-97e8-4e960084dba2",
   "metadata": {},
   "outputs": [
    {
     "name": "stdout",
     "output_type": "stream",
     "text": [
      "sympy_expr x + y + 1\n",
      "skipped x + 2*y\n",
      "skipped 2*x - 1\n",
      "skipped 2*x - y\n",
      "skipped x - y + 1\n",
      "skipped x + y - 1\n",
      "skipped 3\n",
      "skipped y + 2\n",
      "skipped 2*y + 1\n",
      "skipped 2 - x\n",
      "skipped 2 - y\n",
      "skipped -x + y + 1\n",
      "skipped 3*y\n",
      "skipped -x + 2*y\n",
      "skipped 2*y - 1\n",
      "skipped x - 2\n",
      "skipped x - y - 1\n",
      "skipped x - 2*y\n",
      "skipped 1 - 2*x\n",
      "skipped -x - y + 1\n",
      "skipped 1 - 2*y\n",
      "skipped -2*x\n",
      "skipped -x - 1\n",
      "skipped -x - y\n",
      "skipped -2\n",
      "skipped -y - 1\n",
      "skipped -2*y\n",
      "skipped -2*x + y\n",
      "skipped -x + y - 1\n",
      "skipped y - 2\n",
      "skipped 4*x\n",
      "skipped 3*x + 1\n",
      "skipped 3*x + y\n",
      "skipped 2*x + 2\n",
      "skipped 2*x + y + 1\n",
      "skipped 2*x + 2*y\n",
      "skipped 3*x - 1\n",
      "skipped 3*x - y\n",
      "skipped 2*x - y + 1\n",
      "skipped 2*x + y - 1\n",
      "skipped x + 3\n",
      "skipped x + y + 2\n",
      "skipped x + 2*y + 1\n",
      "skipped x - y + 2\n",
      "skipped x + 3*y\n",
      "skipped x + 2*y - 1\n",
      "skipped 2*x - 2\n",
      "skipped 2*x - y - 1\n",
      "skipped 2*x - 2*y\n",
      "skipped x - 2*y + 1\n",
      "skipped x + y - 2\n",
      "skipped 4\n",
      "skipped y + 3\n",
      "skipped 2*y + 2\n",
      "skipped 3 - x\n",
      "skipped 3 - y\n",
      "skipped -x + y + 2\n",
      "skipped 3*y + 1\n",
      "skipped -x + 2*y + 1\n",
      "skipped 2 - 2*x\n",
      "skipped -x - y + 2\n",
      "skipped 2 - 2*y\n",
      "skipped -2*x + y + 1\n",
      "skipped 4*y\n",
      "skipped -x + 3*y\n",
      "skipped 3*y - 1\n",
      "skipped -2*x + 2*y\n",
      "skipped -x + 2*y - 1\n",
      "skipped 2*y - 2\n",
      "skipped x - 3\n",
      "skipped x - y - 2\n",
      "skipped x - 2*y - 1\n",
      "skipped x - 3*y\n",
      "skipped 1 - 3*x\n",
      "skipped -2*x - y + 1\n",
      "skipped -x - 2*y + 1\n",
      "skipped 1 - 3*y\n",
      "skipped -3*x\n",
      "skipped -2*x - 1\n",
      "skipped -2*x - y\n",
      "skipped -x - 2\n",
      "skipped -x - y - 1\n",
      "skipped -x - 2*y\n",
      "skipped -3\n",
      "skipped -y - 2\n",
      "skipped -2*y - 1\n",
      "skipped -3*y\n",
      "skipped -3*x + y\n",
      "skipped -2*x + y - 1\n",
      "skipped -x + y - 2\n",
      "skipped y - 3\n",
      "skipped Piecewise((1, Eq(x, 1)), (0, True))\n",
      "skipped Piecewise((1, Eq(x, 1)), (y, True))\n",
      "skipped Piecewise((0, Eq(x, 0)), (1, True))\n",
      "z3_counterexample_input {x: 0, y: 0}\n"
     ]
    }
   ],
   "source": [
    "print(f'sympy_expr {sympy_expr}')\n",
    "\n",
    "z3_expr_ref = sympy_expr_to_z3_expr_ref(sympy_symbols_to_z3_expr_ref, sympy_expr)\n",
    "z3_counterexample_input = verification_oracle_instance.send(z3_expr_ref)\n",
    "\n",
    "if z3_counterexample_input is not None:\n",
    "    counterexample_input = frozendict((\n",
    "        (z3_expr_ref_to_sympy_expr(z3_expr_ref_to_sympy_symbols, key), z3_expr_ref_to_sympy_expr(z3_expr_ref_to_sympy_symbols, value))\n",
    "        for key, value in z3_counterexample_input.items()\n",
    "    ))\n",
    "\n",
    "    sympy_expr = bottom_up_tree_search_instance.send(counterexample_input)\n",
    "    \n",
    "print(f'z3_counterexample_input {z3_counterexample_input}')"
   ]
  },
  {
   "cell_type": "code",
   "execution_count": 11,
   "id": "39258a46-d5d8-4650-b2cd-ded9808edb6d",
   "metadata": {},
   "outputs": [
    {
     "name": "stdout",
     "output_type": "stream",
     "text": [
      "sympy_expr Piecewise((0, Eq(x, 0)), (y, True))\n",
      "skipped Piecewise((y, Eq(x, y)), (1, True))\n",
      "skipped Piecewise((y, Eq(x, y)), (0, True))\n",
      "skipped Piecewise((x, Eq(y, 1)), (1, True))\n",
      "skipped Piecewise((x, Eq(y, 1)), (0, True))\n",
      "skipped Piecewise((x, Eq(y, 1)), (y, True))\n",
      "skipped Piecewise((x, Eq(y, 0)), (1, True))\n",
      "skipped Piecewise((x, Eq(y, 0)), (0, True))\n",
      "skipped Piecewise((x, Eq(y, 0)), (y, True))\n",
      "skipped Piecewise((x, x >= 1), (1, True))\n",
      "skipped Piecewise((x, x >= 1), (0, True))\n",
      "skipped Piecewise((x, x >= 1), (y, True))\n",
      "skipped Piecewise((x, x >= 0), (1, True))\n",
      "skipped Piecewise((x, x >= 0), (0, True))\n",
      "z3_counterexample_input {x: 2, y: 1}\n"
     ]
    }
   ],
   "source": [
    "print(f'sympy_expr {sympy_expr}')\n",
    "\n",
    "z3_expr_ref = sympy_expr_to_z3_expr_ref(sympy_symbols_to_z3_expr_ref, sympy_expr)\n",
    "z3_counterexample_input = verification_oracle_instance.send(z3_expr_ref)\n",
    "\n",
    "if z3_counterexample_input is not None:\n",
    "    counterexample_input = frozendict((\n",
    "        (z3_expr_ref_to_sympy_expr(z3_expr_ref_to_sympy_symbols, key), z3_expr_ref_to_sympy_expr(z3_expr_ref_to_sympy_symbols, value))\n",
    "        for key, value in z3_counterexample_input.items()\n",
    "    ))\n",
    "\n",
    "    sympy_expr = bottom_up_tree_search_instance.send(counterexample_input)\n",
    "    \n",
    "print(f'z3_counterexample_input {z3_counterexample_input}')"
   ]
  },
  {
   "cell_type": "code",
   "execution_count": 12,
   "id": "74ac70b7-7650-45ff-99e6-5e0b6630ee56",
   "metadata": {},
   "outputs": [
    {
     "name": "stdout",
     "output_type": "stream",
     "text": [
      "sympy_expr Piecewise((x, x >= 0), (y, True))\n",
      "skipped Piecewise((x, x >= y), (1, True))\n",
      "skipped Piecewise((x, x >= y), (0, True))\n",
      "z3_counterexample_input {x: -1, y: -2}\n"
     ]
    }
   ],
   "source": [
    "print(f'sympy_expr {sympy_expr}')\n",
    "\n",
    "z3_expr_ref = sympy_expr_to_z3_expr_ref(sympy_symbols_to_z3_expr_ref, sympy_expr)\n",
    "z3_counterexample_input = verification_oracle_instance.send(z3_expr_ref)\n",
    "\n",
    "if z3_counterexample_input is not None:\n",
    "    counterexample_input = frozendict((\n",
    "        (z3_expr_ref_to_sympy_expr(z3_expr_ref_to_sympy_symbols, key), z3_expr_ref_to_sympy_expr(z3_expr_ref_to_sympy_symbols, value))\n",
    "        for key, value in z3_counterexample_input.items()\n",
    "    ))\n",
    "\n",
    "    sympy_expr = bottom_up_tree_search_instance.send(counterexample_input)\n",
    "    \n",
    "print(f'z3_counterexample_input {z3_counterexample_input}')"
   ]
  },
  {
   "cell_type": "code",
   "execution_count": 13,
   "id": "a27d898c-9dd3-461a-96f2-4124dfbe7aa3",
   "metadata": {},
   "outputs": [
    {
     "name": "stdout",
     "output_type": "stream",
     "text": [
      "sympy_expr Piecewise((x, x >= y), (y, True))\n",
      "z3_counterexample_input None\n"
     ]
    }
   ],
   "source": [
    "print(f'sympy_expr {sympy_expr}')\n",
    "\n",
    "z3_expr_ref = sympy_expr_to_z3_expr_ref(sympy_symbols_to_z3_expr_ref, sympy_expr)\n",
    "z3_counterexample_input = verification_oracle_instance.send(z3_expr_ref)\n",
    "\n",
    "if z3_counterexample_input is not None:\n",
    "    counterexample_input = frozendict((\n",
    "        (z3_expr_ref_to_sympy_expr(z3_expr_ref_to_sympy_symbols, key), z3_expr_ref_to_sympy_expr(z3_expr_ref_to_sympy_symbols, value))\n",
    "        for key, value in z3_counterexample_input.items()\n",
    "    ))\n",
    "\n",
    "    sympy_expr = bottom_up_tree_search_instance.send(counterexample_input)\n",
    "    \n",
    "print(f'z3_counterexample_input {z3_counterexample_input}')"
   ]
  },
  {
   "cell_type": "code",
   "execution_count": null,
   "id": "bf8d1632-73d9-40c4-90c6-e0a44a70bdde",
   "metadata": {},
   "outputs": [],
   "source": []
  }
 ],
 "metadata": {
  "kernelspec": {
   "display_name": "Python 3 (ipykernel)",
   "language": "python",
   "name": "python3"
  },
  "language_info": {
   "codemirror_mode": {
    "name": "ipython",
    "version": 3
   },
   "file_extension": ".py",
   "mimetype": "text/x-python",
   "name": "python",
   "nbconvert_exporter": "python",
   "pygments_lexer": "ipython3",
   "version": "3.8.16"
  }
 },
 "nbformat": 4,
 "nbformat_minor": 5
}
