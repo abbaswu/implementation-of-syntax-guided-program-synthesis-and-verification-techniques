{
 "cells": [
  {
   "cell_type": "markdown",
   "id": "178a4b1e-eff3-4060-b021-a72957e42ae2",
   "metadata": {},
   "source": [
    "# Divide and Conquer Enumerative Approach and SMT Based Verification Oracle\n",
    "\n",
    "The Divide and Conquer Enumerative Approach accepts a CFG written in z3 expressions and synthesizes z3 expressions, and the SMT Based Verification Oracle operates on z3 expressions."
   ]
  },
  {
   "cell_type": "code",
   "execution_count": 1,
   "id": "9bb24f90-1309-47e2-a5f2-94eb336659f4",
   "metadata": {},
   "outputs": [],
   "source": [
    "from z3 import *\n",
    "\n",
    "from iterate_z3_components_in_z3_expr_ref_in_reverse_polish_notation import iterate_z3_components_in_z3_expr_ref_in_reverse_polish_notation\n",
    "\n",
    "\n",
    "z3_S = Int('S')\n",
    "z3_B = Bool('B')\n",
    "z3_x = Int('x')\n",
    "z3_y = Int('y')\n",
    "\n",
    "z3_non_terminals = { z3_S, z3_B }\n",
    "z3_terminals = { z3_x, z3_y }\n",
    "# non_terminals to a set of tuples containing the production_rule in reverse_polish_notation\n",
    "z3_production_rules = {\n",
    "  z3_S: {\n",
    "    # x\n",
    "    tuple(iterate_z3_components_in_z3_expr_ref_in_reverse_polish_notation(z3_x)),\n",
    "    # y\n",
    "    tuple(iterate_z3_components_in_z3_expr_ref_in_reverse_polish_notation(z3_y)),\n",
    "    # 0\n",
    "    tuple(iterate_z3_components_in_z3_expr_ref_in_reverse_polish_notation(IntVal(0))),\n",
    "    # 1\n",
    "    tuple(iterate_z3_components_in_z3_expr_ref_in_reverse_polish_notation(IntVal(1))),\n",
    "    # + S S\n",
    "    tuple(iterate_z3_components_in_z3_expr_ref_in_reverse_polish_notation(z3_S + z3_S)),\n",
    "    # - S S\n",
    "    tuple(iterate_z3_components_in_z3_expr_ref_in_reverse_polish_notation(z3_S - z3_S)),\n",
    "    # ite B S S\n",
    "    tuple(iterate_z3_components_in_z3_expr_ref_in_reverse_polish_notation(If(z3_B, z3_S, z3_S))),\n",
    "  },\n",
    "  z3_B: {\n",
    "    # and B B\n",
    "    tuple(iterate_z3_components_in_z3_expr_ref_in_reverse_polish_notation(And(z3_B, z3_B))),\n",
    "    # or B B\n",
    "    tuple(iterate_z3_components_in_z3_expr_ref_in_reverse_polish_notation(Or(z3_B, z3_B))),\n",
    "    # not B\n",
    "    tuple(iterate_z3_components_in_z3_expr_ref_in_reverse_polish_notation(Not(z3_B))),\n",
    "    # <= S S\n",
    "    tuple(iterate_z3_components_in_z3_expr_ref_in_reverse_polish_notation(z3_S <= z3_S)),\n",
    "    # = S S\n",
    "    tuple(iterate_z3_components_in_z3_expr_ref_in_reverse_polish_notation(z3_S == z3_S)),\n",
    "    # >= S S\n",
    "    tuple(iterate_z3_components_in_z3_expr_ref_in_reverse_polish_notation(z3_S >= z3_S)),\n",
    "  }\n",
    "}\n",
    "z3_start_symbol = z3_S\n",
    "\n",
    "\n",
    "z3_input_variable_list = [z3_x, z3_y]\n",
    "z3_function_declaration = max2 = Function('max2', IntSort(), IntSort(), IntSort())\n",
    "z3_constraint = And(max2(z3_x, z3_y) >= z3_x, max2(z3_x, z3_y) >= z3_y, Or(max2(z3_y, z3_x) == z3_x, max2(z3_y, z3_x) == z3_y))"
   ]
  },
  {
   "cell_type": "markdown",
   "id": "3b5dcccd-5fc3-4fd5-b8f8-cfa13b9861d5",
   "metadata": {},
   "source": [
    "## Initializing `z3_verification_oracle_instance`"
   ]
  },
  {
   "cell_type": "code",
   "execution_count": 2,
   "id": "8f5271df-c74b-47a1-aca0-e6555b4d1a06",
   "metadata": {},
   "outputs": [],
   "source": [
    "from z3_verification_oracle import z3_verification_oracle\n",
    "\n",
    "\n",
    "z3_verification_oracle_instance = z3_verification_oracle(z3_input_variable_list, z3_function_declaration, z3_constraint)\n",
    "next(z3_verification_oracle_instance)"
   ]
  },
  {
   "cell_type": "markdown",
   "id": "431a1cb3-f394-4de7-96aa-6e57e438b2b8",
   "metadata": {},
   "source": [
    "## Initializing `z3_divide_and_conquer_enumerative_approach_instance`"
   ]
  },
  {
   "cell_type": "code",
   "execution_count": 3,
   "id": "efbe9a2e-d249-44c0-ad3d-33ef56c38f59",
   "metadata": {},
   "outputs": [],
   "source": [
    "from z3_divide_and_conquer_enumerative_approach import z3_divide_and_conquer_enumerative_approach\n",
    "\n",
    "z3_divide_and_conquer_enumerative_approach_instance = z3_divide_and_conquer_enumerative_approach(\n",
    "    z3_non_terminals,\n",
    "    z3_terminals,\n",
    "    z3_production_rules,\n",
    "    z3_start_symbol,\n",
    "    z3_B,\n",
    "    z3_function_declaration,\n",
    "    z3_constraint\n",
    ")"
   ]
  },
  {
   "cell_type": "markdown",
   "id": "94076b7f-12aa-4468-8c22-039870207804",
   "metadata": {},
   "source": [
    "## Program Synthesis and Verification"
   ]
  },
  {
   "cell_type": "code",
   "execution_count": 4,
   "id": "ae2fb6b9-08ee-4d08-b23d-af6d7af1800c",
   "metadata": {},
   "outputs": [
    {
     "name": "stderr",
     "output_type": "stream",
     "text": [
      " counterexample_set: set()\n",
      " term_to_covered_counterexample_set_dict: {x: set(), 0: set(), 1: set(), y: set()}\n",
      " predicate_to_covered_counterexample_set_dict: {Not(1 >= y): set(), Not(x >= 0): set(), Not(x == y): set(), Not(x >= 1): set(), y <= 1: set(), y >= 0: set(), 1 == y: set(), 1 == x: set(), 1 <= y: set(), x >= 1: set(), 1 <= x: set(), y >= x: set(), Not(1 == x): set(), Not(y == x): set(), y == 0: set(), Not(1 == y): set(), Not(x == 0): set(), 0 >= y: set(), Not(y >= 0): set(), Not(x == 1): set(), 0 >= x: set(), Not(y >= 1): set(), y <= 0: set(), x == 1: set(), y == x: set(), Not(0 >= x): set(), x <= 1: set(), x >= 0: set(), Not(0 >= y): set(), y <= x: set(), 0 == y: set(), 0 == x: set(), x >= y: set(), 0 <= y: set(), Not(x >= y): set(), 0 <= x: set(), Not(y == 0): set(), y >= 1: set(), Not(y == 1): set(), x == 0: set(), Not(0 == x): set(), Not(1 >= x): set(), x <= 0: set(), x == y: set(), 1 >= y: set(), Not(0 == y): set(), 1 >= x: set(), x <= y: set(), Not(y >= x): set(), y == 1: set()}\n",
      "     construct_decision_tree set() {x: set(), 0: set(), 1: set(), y: set()} {1 >= x, Not(1 >= y), Not(x >= 0), Not(x == y), Not(x >= 1), y <= 1, y >= 0, 1 == y, 1 == x, 1 <= y, x >= 1, 1 <= x, y >= x, y == 1, Not(1 == x), Not(y == x), y == 0, Not(1 == y), Not(x == 0), 0 >= y, Not(y >= 0), Not(x == 1), 0 >= x, Not(y >= 1), y <= 0, x == 1, y == x, Not(0 >= x), x <= 1, x >= 0, Not(0 >= y), y <= x, 0 == y, 0 == x, x >= y, 0 <= y, Not(x >= y), 0 <= x, Not(y == 0), y >= 1, Not(y == 1), x == 0, Not(0 == x), x <= 0, x == y, 1 >= y, Not(0 == y), Not(1 >= x), Not(y >= x), x <= y} {Not(1 >= y): set(), Not(x >= 0): set(), Not(x == y): set(), Not(x >= 1): set(), y <= 1: set(), y >= 0: set(), 1 == y: set(), 1 == x: set(), 1 <= y: set(), x >= 1: set(), 1 <= x: set(), y >= x: set(), Not(1 == x): set(), Not(y == x): set(), y == 0: set(), Not(1 == y): set(), Not(x == 0): set(), 0 >= y: set(), Not(y >= 0): set(), Not(x == 1): set(), 0 >= x: set(), Not(y >= 1): set(), y <= 0: set(), x == 1: set(), y == x: set(), Not(0 >= x): set(), x <= 1: set(), x >= 0: set(), Not(0 >= y): set(), y <= x: set(), 0 == y: set(), 0 == x: set(), x >= y: set(), 0 <= y: set(), Not(x >= y): set(), 0 <= x: set(), Not(y == 0): set(), y >= 1: set(), Not(y == 1): set(), x == 0: set(), Not(0 == x): set(), Not(1 >= x): set(), x <= 0: set(), x == y: set(), 1 >= y: set(), Not(0 == y): set(), 1 >= x: set(), x <= y: set(), Not(y >= x): set(), y == 1: set()}\n",
      "     x covers all counterexamples, yielding\n",
      " decision_tree: x\n"
     ]
    }
   ],
   "source": [
    "z3_expr_ref = next(z3_divide_and_conquer_enumerative_approach_instance)"
   ]
  },
  {
   "cell_type": "code",
   "execution_count": 5,
   "id": "c074f97c-2e77-4a3f-99d0-7022c048d13e",
   "metadata": {},
   "outputs": [
    {
     "name": "stdout",
     "output_type": "stream",
     "text": [
      "z3_expr_ref x\n",
      "z3_counterexample_input frozendict.frozendict({x: -1, y: 0})\n"
     ]
    },
    {
     "name": "stderr",
     "output_type": "stream",
     "text": [
      " counterexample: frozendict.frozendict({x: -1, y: 0})\n",
      " counterexample_set: {frozendict.frozendict({x: -1, y: 0})}\n",
      " term_to_covered_counterexample_set_dict: {x: set(), 0: {frozendict.frozendict({x: -1, y: 0})}, 1: set(), y: {frozendict.frozendict({x: -1, y: 0})}}\n",
      " predicate_to_covered_counterexample_set_dict: {Not(1 >= y): set(), Not(x >= 0): {frozendict.frozendict({x: -1, y: 0})}, Not(x == y): {frozendict.frozendict({x: -1, y: 0})}, Not(x >= 1): {frozendict.frozendict({x: -1, y: 0})}, y <= 1: {frozendict.frozendict({x: -1, y: 0})}, y >= 0: {frozendict.frozendict({x: -1, y: 0})}, 1 == y: set(), 1 == x: set(), 1 <= y: set(), x >= 1: set(), 1 <= x: set(), y >= x: {frozendict.frozendict({x: -1, y: 0})}, Not(1 == x): {frozendict.frozendict({x: -1, y: 0})}, Not(y == x): {frozendict.frozendict({x: -1, y: 0})}, y == 0: {frozendict.frozendict({x: -1, y: 0})}, Not(1 == y): {frozendict.frozendict({x: -1, y: 0})}, Not(x == 0): {frozendict.frozendict({x: -1, y: 0})}, 0 >= y: {frozendict.frozendict({x: -1, y: 0})}, Not(y >= 0): set(), Not(x == 1): {frozendict.frozendict({x: -1, y: 0})}, 0 >= x: {frozendict.frozendict({x: -1, y: 0})}, Not(y >= 1): {frozendict.frozendict({x: -1, y: 0})}, y <= 0: {frozendict.frozendict({x: -1, y: 0})}, x == 1: set(), y == x: set(), Not(0 >= x): set(), x <= 1: {frozendict.frozendict({x: -1, y: 0})}, x >= 0: set(), Not(0 >= y): set(), y <= x: set(), 0 == y: {frozendict.frozendict({x: -1, y: 0})}, 0 == x: set(), x >= y: set(), 0 <= y: {frozendict.frozendict({x: -1, y: 0})}, Not(x >= y): {frozendict.frozendict({x: -1, y: 0})}, 0 <= x: set(), Not(y == 0): set(), y >= 1: set(), Not(y == 1): {frozendict.frozendict({x: -1, y: 0})}, x == 0: set(), Not(0 == x): {frozendict.frozendict({x: -1, y: 0})}, Not(1 >= x): set(), x <= 0: {frozendict.frozendict({x: -1, y: 0})}, x == y: set(), 1 >= y: {frozendict.frozendict({x: -1, y: 0})}, Not(0 == y): set(), 1 >= x: {frozendict.frozendict({x: -1, y: 0})}, x <= y: {frozendict.frozendict({x: -1, y: 0})}, Not(y >= x): set(), y == 1: set()}\n",
      "     construct_decision_tree {frozendict.frozendict({x: -1, y: 0})} {x: set(), 0: {frozendict.frozendict({x: -1, y: 0})}, 1: set(), y: {frozendict.frozendict({x: -1, y: 0})}} {1 >= x, Not(1 >= y), Not(x >= 0), Not(x == y), Not(x >= 1), y <= 1, y >= 0, 1 == y, 1 == x, 1 <= y, x >= 1, 1 <= x, y >= x, y == 1, Not(1 == x), Not(y == x), y == 0, Not(1 == y), Not(x == 0), 0 >= y, Not(y >= 0), Not(x == 1), 0 >= x, Not(y >= 1), y <= 0, x == 1, y == x, Not(0 >= x), x <= 1, x >= 0, Not(0 >= y), y <= x, 0 == y, 0 == x, x >= y, 0 <= y, Not(x >= y), 0 <= x, Not(y == 0), y >= 1, Not(y == 1), x == 0, Not(0 == x), x <= 0, x == y, 1 >= y, Not(0 == y), Not(1 >= x), Not(y >= x), x <= y} {Not(1 >= y): set(), Not(x >= 0): {frozendict.frozendict({x: -1, y: 0})}, Not(x == y): {frozendict.frozendict({x: -1, y: 0})}, Not(x >= 1): {frozendict.frozendict({x: -1, y: 0})}, y <= 1: {frozendict.frozendict({x: -1, y: 0})}, y >= 0: {frozendict.frozendict({x: -1, y: 0})}, 1 == y: set(), 1 == x: set(), 1 <= y: set(), x >= 1: set(), 1 <= x: set(), y >= x: {frozendict.frozendict({x: -1, y: 0})}, Not(1 == x): {frozendict.frozendict({x: -1, y: 0})}, Not(y == x): {frozendict.frozendict({x: -1, y: 0})}, y == 0: {frozendict.frozendict({x: -1, y: 0})}, Not(1 == y): {frozendict.frozendict({x: -1, y: 0})}, Not(x == 0): {frozendict.frozendict({x: -1, y: 0})}, 0 >= y: {frozendict.frozendict({x: -1, y: 0})}, Not(y >= 0): set(), Not(x == 1): {frozendict.frozendict({x: -1, y: 0})}, 0 >= x: {frozendict.frozendict({x: -1, y: 0})}, Not(y >= 1): {frozendict.frozendict({x: -1, y: 0})}, y <= 0: {frozendict.frozendict({x: -1, y: 0})}, x == 1: set(), y == x: set(), Not(0 >= x): set(), x <= 1: {frozendict.frozendict({x: -1, y: 0})}, x >= 0: set(), Not(0 >= y): set(), y <= x: set(), 0 == y: {frozendict.frozendict({x: -1, y: 0})}, 0 == x: set(), x >= y: set(), 0 <= y: {frozendict.frozendict({x: -1, y: 0})}, Not(x >= y): {frozendict.frozendict({x: -1, y: 0})}, 0 <= x: set(), Not(y == 0): set(), y >= 1: set(), Not(y == 1): {frozendict.frozendict({x: -1, y: 0})}, x == 0: set(), Not(0 == x): {frozendict.frozendict({x: -1, y: 0})}, Not(1 >= x): set(), x <= 0: {frozendict.frozendict({x: -1, y: 0})}, x == y: set(), 1 >= y: {frozendict.frozendict({x: -1, y: 0})}, Not(0 == y): set(), 1 >= x: {frozendict.frozendict({x: -1, y: 0})}, x <= y: {frozendict.frozendict({x: -1, y: 0})}, Not(y >= x): set(), y == 1: set()}\n",
      "     0 covers all counterexamples, yielding\n",
      " decision_tree: 0\n"
     ]
    }
   ],
   "source": [
    "print(f'z3_expr_ref {z3_expr_ref}')\n",
    "\n",
    "z3_counterexample_input = z3_verification_oracle_instance.send(z3_expr_ref)\n",
    "\n",
    "if z3_counterexample_input is not None:\n",
    "    z3_expr_ref = z3_divide_and_conquer_enumerative_approach_instance.send(z3_counterexample_input)\n",
    "    \n",
    "print(f'z3_counterexample_input {z3_counterexample_input}')"
   ]
  },
  {
   "cell_type": "code",
   "execution_count": 6,
   "id": "cb845ed4-351c-4f62-a7c8-17e6df64eacd",
   "metadata": {},
   "outputs": [
    {
     "name": "stderr",
     "output_type": "stream",
     "text": [
      " counterexample: frozendict.frozendict({x: -1, y: -1})\n",
      " counterexample_set: {frozendict.frozendict({x: -1, y: 0}), frozendict.frozendict({x: -1, y: -1})}\n",
      " term_to_covered_counterexample_set_dict: {x: {frozendict.frozendict({x: -1, y: -1})}, 0: {frozendict.frozendict({x: -1, y: 0})}, 1: set(), y: {frozendict.frozendict({x: -1, y: 0}), frozendict.frozendict({x: -1, y: -1})}}\n",
      " predicate_to_covered_counterexample_set_dict: {Not(1 >= y): set(), Not(x >= 0): {frozendict.frozendict({x: -1, y: 0}), frozendict.frozendict({x: -1, y: -1})}, Not(x == y): {frozendict.frozendict({x: -1, y: 0})}, Not(x >= 1): {frozendict.frozendict({x: -1, y: 0}), frozendict.frozendict({x: -1, y: -1})}, y <= 1: {frozendict.frozendict({x: -1, y: 0}), frozendict.frozendict({x: -1, y: -1})}, y >= 0: {frozendict.frozendict({x: -1, y: 0})}, 1 == y: set(), 1 == x: set(), 1 <= y: set(), x >= 1: set(), 1 <= x: set(), y >= x: {frozendict.frozendict({x: -1, y: 0}), frozendict.frozendict({x: -1, y: -1})}, Not(1 == x): {frozendict.frozendict({x: -1, y: 0}), frozendict.frozendict({x: -1, y: -1})}, Not(y == x): {frozendict.frozendict({x: -1, y: 0})}, y == 0: {frozendict.frozendict({x: -1, y: 0})}, Not(1 == y): {frozendict.frozendict({x: -1, y: 0}), frozendict.frozendict({x: -1, y: -1})}, Not(x == 0): {frozendict.frozendict({x: -1, y: 0}), frozendict.frozendict({x: -1, y: -1})}, 0 >= y: {frozendict.frozendict({x: -1, y: 0}), frozendict.frozendict({x: -1, y: -1})}, Not(y >= 0): {frozendict.frozendict({x: -1, y: -1})}, Not(x == 1): {frozendict.frozendict({x: -1, y: 0}), frozendict.frozendict({x: -1, y: -1})}, 0 >= x: {frozendict.frozendict({x: -1, y: 0}), frozendict.frozendict({x: -1, y: -1})}, Not(y >= 1): {frozendict.frozendict({x: -1, y: 0}), frozendict.frozendict({x: -1, y: -1})}, y <= 0: {frozendict.frozendict({x: -1, y: 0}), frozendict.frozendict({x: -1, y: -1})}, x == 1: set(), y == x: {frozendict.frozendict({x: -1, y: -1})}, Not(0 >= x): set(), x <= 1: {frozendict.frozendict({x: -1, y: 0}), frozendict.frozendict({x: -1, y: -1})}, x >= 0: set(), Not(0 >= y): set(), y <= x: {frozendict.frozendict({x: -1, y: -1})}, 0 == y: {frozendict.frozendict({x: -1, y: 0})}, 0 == x: set(), x >= y: {frozendict.frozendict({x: -1, y: -1})}, 0 <= y: {frozendict.frozendict({x: -1, y: 0})}, Not(x >= y): {frozendict.frozendict({x: -1, y: 0})}, 0 <= x: set(), Not(y == 0): {frozendict.frozendict({x: -1, y: -1})}, y >= 1: set(), Not(y == 1): {frozendict.frozendict({x: -1, y: 0}), frozendict.frozendict({x: -1, y: -1})}, x == 0: set(), Not(0 == x): {frozendict.frozendict({x: -1, y: 0}), frozendict.frozendict({x: -1, y: -1})}, Not(1 >= x): set(), x <= 0: {frozendict.frozendict({x: -1, y: 0}), frozendict.frozendict({x: -1, y: -1})}, x == y: {frozendict.frozendict({x: -1, y: -1})}, 1 >= y: {frozendict.frozendict({x: -1, y: 0}), frozendict.frozendict({x: -1, y: -1})}, Not(0 == y): {frozendict.frozendict({x: -1, y: -1})}, 1 >= x: {frozendict.frozendict({x: -1, y: 0}), frozendict.frozendict({x: -1, y: -1})}, x <= y: {frozendict.frozendict({x: -1, y: 0}), frozendict.frozendict({x: -1, y: -1})}, Not(y >= x): set(), y == 1: set()}\n",
      "     construct_decision_tree {frozendict.frozendict({x: -1, y: 0}), frozendict.frozendict({x: -1, y: -1})} {x: {frozendict.frozendict({x: -1, y: -1})}, 0: {frozendict.frozendict({x: -1, y: 0})}, 1: set(), y: {frozendict.frozendict({x: -1, y: 0}), frozendict.frozendict({x: -1, y: -1})}} "
     ]
    },
    {
     "name": "stdout",
     "output_type": "stream",
     "text": [
      "z3_expr_ref 0\n",
      "z3_counterexample_input frozendict.frozendict({x: -1, y: -1})\n"
     ]
    },
    {
     "name": "stderr",
     "output_type": "stream",
     "text": [
      "{1 >= x, Not(1 >= y), Not(x >= 0), Not(x == y), Not(x >= 1), y <= 1, y >= 0, 1 == y, 1 == x, 1 <= y, x >= 1, 1 <= x, y >= x, y == 1, Not(1 == x), Not(y == x), y == 0, Not(1 == y), Not(x == 0), 0 >= y, Not(y >= 0), Not(x == 1), 0 >= x, Not(y >= 1), y <= 0, x == 1, y == x, Not(0 >= x), x <= 1, x >= 0, Not(0 >= y), y <= x, 0 == y, 0 == x, x >= y, 0 <= y, Not(x >= y), 0 <= x, Not(y == 0), y >= 1, Not(y == 1), x == 0, Not(0 == x), x <= 0, x == y, 1 >= y, Not(0 == y), Not(1 >= x), Not(y >= x), x <= y} {Not(1 >= y): set(), Not(x >= 0): {frozendict.frozendict({x: -1, y: 0}), frozendict.frozendict({x: -1, y: -1})}, Not(x == y): {frozendict.frozendict({x: -1, y: 0})}, Not(x >= 1): {frozendict.frozendict({x: -1, y: 0}), frozendict.frozendict({x: -1, y: -1})}, y <= 1: {frozendict.frozendict({x: -1, y: 0}), frozendict.frozendict({x: -1, y: -1})}, y >= 0: {frozendict.frozendict({x: -1, y: 0})}, 1 == y: set(), 1 == x: set(), 1 <= y: set(), x >= 1: set(), 1 <= x: set(), y >= x: {frozendict.frozendict({x: -1, y: 0}), frozendict.frozendict({x: -1, y: -1})}, Not(1 == x): {frozendict.frozendict({x: -1, y: 0}), frozendict.frozendict({x: -1, y: -1})}, Not(y == x): {frozendict.frozendict({x: -1, y: 0})}, y == 0: {frozendict.frozendict({x: -1, y: 0})}, Not(1 == y): {frozendict.frozendict({x: -1, y: 0}), frozendict.frozendict({x: -1, y: -1})}, Not(x == 0): {frozendict.frozendict({x: -1, y: 0}), frozendict.frozendict({x: -1, y: -1})}, 0 >= y: {frozendict.frozendict({x: -1, y: 0}), frozendict.frozendict({x: -1, y: -1})}, Not(y >= 0): {frozendict.frozendict({x: -1, y: -1})}, Not(x == 1): {frozendict.frozendict({x: -1, y: 0}), frozendict.frozendict({x: -1, y: -1})}, 0 >= x: {frozendict.frozendict({x: -1, y: 0}), frozendict.frozendict({x: -1, y: -1})}, Not(y >= 1): {frozendict.frozendict({x: -1, y: 0}), frozendict.frozendict({x: -1, y: -1})}, y <= 0: {frozendict.frozendict({x: -1, y: 0}), frozendict.frozendict({x: -1, y: -1})}, x == 1: set(), y == x: {frozendict.frozendict({x: -1, y: -1})}, Not(0 >= x): set(), x <= 1: {frozendict.frozendict({x: -1, y: 0}), frozendict.frozendict({x: -1, y: -1})}, x >= 0: set(), Not(0 >= y): set(), y <= x: {frozendict.frozendict({x: -1, y: -1})}, 0 == y: {frozendict.frozendict({x: -1, y: 0})}, 0 == x: set(), x >= y: {frozendict.frozendict({x: -1, y: -1})}, 0 <= y: {frozendict.frozendict({x: -1, y: 0})}, Not(x >= y): {frozendict.frozendict({x: -1, y: 0})}, 0 <= x: set(), Not(y == 0): {frozendict.frozendict({x: -1, y: -1})}, y >= 1: set(), Not(y == 1): {frozendict.frozendict({x: -1, y: 0}), frozendict.frozendict({x: -1, y: -1})}, x == 0: set(), Not(0 == x): {frozendict.frozendict({x: -1, y: 0}), frozendict.frozendict({x: -1, y: -1})}, Not(1 >= x): set(), x <= 0: {frozendict.frozendict({x: -1, y: 0}), frozendict.frozendict({x: -1, y: -1})}, x == y: {frozendict.frozendict({x: -1, y: -1})}, 1 >= y: {frozendict.frozendict({x: -1, y: 0}), frozendict.frozendict({x: -1, y: -1})}, Not(0 == y): {frozendict.frozendict({x: -1, y: -1})}, 1 >= x: {frozendict.frozendict({x: -1, y: 0}), frozendict.frozendict({x: -1, y: -1})}, x <= y: {frozendict.frozendict({x: -1, y: 0}), frozendict.frozendict({x: -1, y: -1})}, Not(y >= x): set(), y == 1: set()}\n",
      "     y covers all counterexamples, yielding\n",
      " decision_tree: y\n"
     ]
    }
   ],
   "source": [
    "print(f'z3_expr_ref {z3_expr_ref}')\n",
    "\n",
    "z3_counterexample_input = z3_verification_oracle_instance.send(z3_expr_ref)\n",
    "\n",
    "if z3_counterexample_input is not None:\n",
    "    z3_expr_ref = z3_divide_and_conquer_enumerative_approach_instance.send(z3_counterexample_input)\n",
    "    \n",
    "print(f'z3_counterexample_input {z3_counterexample_input}')"
   ]
  },
  {
   "cell_type": "code",
   "execution_count": 7,
   "id": "2264b37d-729f-48ce-88b2-15bd8f310de0",
   "metadata": {},
   "outputs": [
    {
     "name": "stdout",
     "output_type": "stream",
     "text": [
      "z3_expr_ref y\n"
     ]
    },
    {
     "name": "stderr",
     "output_type": "stream",
     "text": [
      " counterexample: frozendict.frozendict({x: 0, y: -1})\n",
      " counterexample_set: {frozendict.frozendict({x: 0, y: -1}), frozendict.frozendict({x: -1, y: 0}), frozendict.frozendict({x: -1, y: -1})}\n",
      " term_to_covered_counterexample_set_dict: {x: {frozendict.frozendict({x: 0, y: -1}), frozendict.frozendict({x: -1, y: -1})}, 0: {frozendict.frozendict({x: 0, y: -1}), frozendict.frozendict({x: -1, y: 0})}, 1: set(), y: {frozendict.frozendict({x: -1, y: 0}), frozendict.frozendict({x: -1, y: -1})}}\n",
      " predicate_to_covered_counterexample_set_dict: {Not(1 >= y): set(), Not(x >= 0): {frozendict.frozendict({x: -1, y: 0}), frozendict.frozendict({x: -1, y: -1})}, Not(x == y): {frozendict.frozendict({x: 0, y: -1}), frozendict.frozendict({x: -1, y: 0})}, Not(x >= 1): {frozendict.frozendict({x: 0, y: -1}), frozendict.frozendict({x: -1, y: 0}), frozendict.frozendict({x: -1, y: -1})}, y <= 1: {frozendict.frozendict({x: 0, y: -1}), frozendict.frozendict({x: -1, y: 0}), frozendict.frozendict({x: -1, y: -1})}, y >= 0: {frozendict.frozendict({x: -1, y: 0})}, 1 == y: set(), 1 == x: set(), 1 <= y: set(), x >= 1: set(), 1 <= x: set(), y >= x: {frozendict.frozendict({x: -1, y: 0}), frozendict.frozendict({x: -1, y: -1})}, Not(1 == x): {frozendict.frozendict({x: 0, y: -1}), frozendict.frozendict({x: -1, y: 0}), frozendict.frozendict({x: -1, y: -1})}, Not(y == x): {frozendict.frozendict({x: 0, y: -1}), frozendict.frozendict({x: -1, y: 0})}, y == 0: {frozendict.frozendict({x: -1, y: 0})}, Not(1 == y): {frozendict.frozendict({x: 0, y: -1}), frozendict.frozendict({x: -1, y: 0}), frozendict.frozendict({x: -1, y: -1})}, Not(x == 0): {frozendict.frozendict({x: -1, y: 0}), frozendict.frozendict({x: -1, y: -1})}, 0 >= y: {frozendict.frozendict({x: 0, y: -1}), frozendict.frozendict({x: -1, y: 0}), frozendict.frozendict({x: -1, y: -1})}, Not(y >= 0): {frozendict.frozendict({x: 0, y: -1}), frozendict.frozendict({x: -1, y: -1})}, Not(x == 1): {frozendict.frozendict({x: 0, y: -1}), frozendict.frozendict({x: -1, y: 0}), frozendict.frozendict({x: -1, y: -1})}, 0 >= x: {frozendict.frozendict({x: 0, y: -1}), frozendict.frozendict({x: -1, y: 0}), frozendict.frozendict({x: -1, y: -1})}, Not(y >= 1): {frozendict.frozendict({x: 0, y: -1}), frozendict.frozendict({x: -1, y: 0}), frozendict.frozendict({x: -1, y: -1})}, y <= 0: {frozendict.frozendict({x: 0, y: -1}), frozendict.frozendict({x: -1, y: 0}), frozendict.frozendict({x: -1, y: -1})}, x == 1: set(), y == x: {frozendict.frozendict({x: -1, y: -1})}, Not(0 >= x): set(), x <= 1: {frozendict.frozendict({x: 0, y: -1}), frozendict.frozendict({x: -1, y: 0}), frozendict.frozendict({x: -1, y: -1})}, x >= 0: {frozendict.frozendict({x: 0, y: -1})}, Not(0 >= y): set(), y <= x: {frozendict.frozendict({x: 0, y: -1}), frozendict.frozendict({x: -1, y: -1})}, 0 == y: {frozendict.frozendict({x: -1, y: 0})}, 0 == x: {frozendict.frozendict({x: 0, y: -1})}, x >= y: {frozendict.frozendict({x: 0, y: -1}), frozendict.frozendict({x: -1, y: -1})}, 0 <= y: {frozendict.frozendict({x: -1, y: 0})}, Not(x >= y): {frozendict.frozendict({x: -1, y: 0})}, 0 <= x: {frozendict.frozendict({x: 0, y: -1})}, Not(y == 0): {frozendict.frozendict({x: 0, y: -1}), frozendict.frozendict({x: -1, y: -1})}, y >= 1: set(), Not(y == 1): {frozendict.frozendict({x: 0, y: -1}), frozendict.frozendict({x: -1, y: 0}), frozendict.frozendict({x: -1, y: -1})}, x == 0: {frozendict.frozendict({x: 0, y: -1})}, Not(0 == x): {frozendict.frozendict({x: -1, y: 0}), frozendict.frozendict({x: -1, y: -1})}, Not(1 >= x): set(), x <= 0: {frozendict.frozendict({x: 0, y: -1}), frozendict.frozendict({x: -1, y: 0}), frozendict.frozendict({x: -1, y: -1})}, x == y: {frozendict.frozendict({x: -1, y: -1})}, 1 >= y: {frozendict.frozendict({x: 0, y: -1}), frozendict.frozendict({x: -1, y: 0}), frozendict.frozendict({x: -1, y: -1})}, Not(0 == y): {frozendict.frozendict({x: 0, y: -1}), frozendict.frozendict({x: -1, y: -1})}, 1 >= x: {frozendict.frozendict({x: 0, y: -1}), frozendict.frozendict({x: -1, y: 0}), frozendict.frozendict({x: -1, y: -1})}, x <= y: {frozendict.frozendict({x: -1, y: 0}), frozendict.frozendict({x: -1, y: -1})}, Not(y >= x): {frozendict.frozendict({x: 0, y: -1})}, y == 1: set()}\n",
      "     construct_decision_tree {frozendict.frozendict({x: 0, y: -1}), frozendict.frozendict({x: -1, y: 0}), frozendict.frozendict({x: -1, y: -1})} {x: {frozendict.frozendict({x: 0, y: -1}), frozendict.frozendict({x: -1, y: -1})}, 0: {frozendict.frozendict({x: 0, y: -1}), frozendict.frozendict({x: -1, y: 0})}, 1: set(), y: {frozendict.frozendict({x: -1, y: 0}), frozendict.frozendict({x: -1, y: -1})}} {1 >= x, Not(1 >= y), Not(x >= 0), Not(x == y), Not(x >= 1), y <= 1, y >= 0, 1 == y, 1 == x, 1 <= y, x >= 1, 1 <= x, y >= x, y == 1, Not(1 == x), Not(y == x), y == 0, Not(1 == y), Not(x == 0), 0 >= y, Not(y >= 0), Not(x == 1), 0 >= x, Not(y >= 1), y <= 0, x == 1, y == x, Not(0 >= x), x <= 1, x >= 0, Not(0 >= y), y <= x, 0 == y, 0 == x, x >= y, 0 <= y, Not(x >= y), 0 <= x, Not(y == 0), y >= 1, Not(y == 1), x == 0, Not(0 == x), x <= 0, x == y, 1 >= y, Not(0 == y), Not(1 >= x), Not(y >= x), x <= y} {Not(1 >= y): set(), Not(x >= 0): {frozendict.frozendict({x: -1, y: 0}), frozendict.frozendict({x: -1, y: -1})}, Not(x == y): {frozendict.frozendict({x: 0, y: -1}), frozendict.frozendict({x: -1, y: 0})}, Not(x >= 1): {frozendict.frozendict({x: 0, y: -1}), frozendict.frozendict({x: -1, y: 0}), frozendict.frozendict({x: -1, y: -1})}, y <= 1: {frozendict.frozendict({x: 0, y: -1}), frozendict.frozendict({x: -1, y: 0}), frozendict.frozendict({x: -1, y: -1})}, y >= 0: {frozendict.frozendict({x: -1, y: 0})}, 1 == y: set(), 1 == x: set(), 1 <= y: set(), x >= 1: set(), 1 <= x: set(), y >= x: {frozendict.frozendict({x: -1, y: 0}), frozendict.frozendict({x: -1, y: -1})}, Not(1 == x): {frozendict.frozendict({x: 0, y: -1}), frozendict.frozendict({x: -1, y: 0}), frozendict.frozendict({x: -1, y: -1})}, Not(y == x): {frozendict.frozendict({x: 0, y: -1}), frozendict.frozendict({x: -1, y: 0})}, y == 0: {frozendict.frozendict({x: -1, y: 0})}, Not(1 == y): {frozendict.frozendict({x: 0, y: -1}), frozendict.frozendict({x: -1, y: 0}), frozendict.frozendict({x: -1, y: -1})}, Not(x == 0): {frozendict.frozendict({x: -1, y: 0}), frozendict.frozendict({x: -1, y: -1})}, 0 >= y: {frozendict.frozendict({x: 0, y: -1}), frozendict.frozendict({x: -1, y: 0}), frozendict.frozendict({x: -1, y: -1})}, Not(y >= 0): {frozendict.frozendict({x: 0, y: -1}), frozendict.frozendict({x: -1, y: -1})}, Not(x == 1): {frozendict.frozendict({x: 0, y: -1}), frozendict.frozendict({x: -1, y: 0}), frozendict.frozendict({x: -1, y: -1})}, 0 >= x: {frozendict.frozendict({x: 0, y: -1}), frozendict.frozendict({x: -1, y: 0}), frozendict.frozendict({x: -1, y: -1})}, Not(y >= 1): {frozendict.frozendict({x: 0, y: -1}), frozendict.frozendict({x: -1, y: 0}), frozendict.frozendict({x: -1, y: -1})}, y <= 0: {frozendict.frozendict({x: 0, y: -1}), frozendict.frozendict({x: -1, y: 0}), frozendict.frozendict({x: -1, y: -1})}, x == 1: set(), y == x: {frozendict.frozendict({x: -1, y: -1})}, Not(0 >= x): set(), x <= 1: {frozendict.frozendict({x: 0, y: -1}), frozendict.frozendict({x: -1, y: 0}), frozendict.frozendict({x: -1, y: -1})}, x >= 0: {frozendict.frozendict({x: 0, y: -1})}, Not(0 >= y): set(), y <= x: {frozendict.frozendict({x: 0, y: -1}), frozendict.frozendict({x: -1, y: -1})}, 0 == y: {frozendict.frozendict({x: -1, y: 0})}, 0 == x: {frozendict.frozendict({x: 0, y: -1})}, x >= y: {frozendict.frozendict({x: 0, y: -1}), frozendict.frozendict({x: -1, y: -1})}, 0 <= y: {frozendict.frozendict({x: -1, y: 0})}, Not(x >= y): {frozendict.frozendict({x: -1, y: 0})}, 0 <= x: {frozendict.frozendict({x: 0, y: -1})}, Not(y == 0): {frozendict.frozendict({x: 0, y: -1}), frozendict.frozendict({x: -1, y: -1})}, y >= 1: set(), Not(y == 1): {frozendict.frozendict({x: 0, y: -1}), frozendict.frozendict({x: -1, y: 0}), frozendict.frozendict({x: -1, y: -1})}, x == 0: {frozendict.frozendict({x: 0, y: -1})}, Not(0 == x): {frozendict.frozendict({x: -1, y: 0}), frozendict.frozendict({x: -1, y: -1})}, Not(1 >= x): set(), x <= 0: {frozendict.frozendict({x: 0, y: -1}), frozendict.frozendict({x: -1, y: 0}), frozendict.frozendict({x: -1, y: -1})}, x == y: {frozendict.frozendict({x: -1, y: -1})}, 1 >= y: {frozendict.frozendict({x: 0, y: -1}), frozendict.frozendict({x: -1, y: 0}), frozendict.frozendict({x: -1, y: -1})}, Not(0 == y): {frozendict.frozendict({x: 0, y: -1}), frozendict.frozendict({x: -1, y: -1})}, 1 >= x: {frozendict.frozendict({x: 0, y: -1}), frozendict.frozendict({x: -1, y: 0}), frozendict.frozendict({x: -1, y: -1})}, x <= y: {frozendict.frozendict({x: -1, y: 0}), frozendict.frozendict({x: -1, y: -1})}, Not(y >= x): {frozendict.frozendict({x: 0, y: -1})}, y == 1: set()}\n",
      "     predicate_to_information_gain_dict: {Not(x >= 0): 1.891023320882572, Not(x == y): 1.891023320882572, x >= 0: 1.891023320882572, y <= x: 1.891023320882572, 0 == y: 1.891023320882572, y >= 0: 1.891023320882572, 0 == x: 1.891023320882572, x >= y: 1.891023320882572, 0 <= y: 1.891023320882572, Not(x >= y): 1.891023320882572, 0 <= x: 1.891023320882572, Not(y == 0): 1.891023320882572, y >= x: 1.891023320882572, x == 0: 1.891023320882572, Not(y == x): 1.891023320882572, Not(0 == x): 1.891023320882572, y == 0: 1.891023320882572, Not(y >= x): 1.891023320882572, Not(x == 0): 1.891023320882572, Not(y >= 0): 1.891023320882572, x == y: 1.891023320882572, Not(0 == y): 1.891023320882572, y == x: 1.891023320882572, x <= y: 1.891023320882572}\n",
      "     predicate: Not(x >= 0)\n"
     ]
    },
    {
     "name": "stdout",
     "output_type": "stream",
     "text": [
      "z3_counterexample_input frozendict.frozendict({x: 0, y: -1})\n"
     ]
    },
    {
     "name": "stderr",
     "output_type": "stream",
     "text": [
      "     left_subtree_counterexample_set: {frozendict.frozendict({x: -1, y: 0}), frozendict.frozendict({x: -1, y: -1})}\n",
      "     left_subtree_term_to_covered_counterexample_set_dict: {x: {frozendict.frozendict({x: -1, y: -1})}, 0: {frozendict.frozendict({x: -1, y: 0})}, 1: set(), y: {frozendict.frozendict({x: -1, y: 0}), frozendict.frozendict({x: -1, y: -1})}}\n",
      "     left_subtree_predicate_set: {Not(x == y), x >= 0, y <= x, 0 == y, y >= 0, 0 == x, x >= y, 0 <= y, Not(x >= y), 0 <= x, Not(y == 0), y >= x, x == 0, Not(y == x), Not(0 == x), y == 0, Not(y >= x), Not(x == 0), Not(y >= 0), x == y, Not(0 == y), y == x, x <= y}\n",
      "     left_subtree_predicate_to_covered_counterexample_set_dict: {Not(x == y): {frozendict.frozendict({x: -1, y: 0})}, x >= 0: set(), y <= x: {frozendict.frozendict({x: -1, y: -1})}, 0 == y: {frozendict.frozendict({x: -1, y: 0})}, y >= 0: {frozendict.frozendict({x: -1, y: 0})}, 0 == x: set(), x >= y: {frozendict.frozendict({x: -1, y: -1})}, 0 <= y: {frozendict.frozendict({x: -1, y: 0})}, Not(x >= y): {frozendict.frozendict({x: -1, y: 0})}, 0 <= x: set(), Not(y == 0): {frozendict.frozendict({x: -1, y: -1})}, y >= x: {frozendict.frozendict({x: -1, y: 0}), frozendict.frozendict({x: -1, y: -1})}, x == 0: set(), Not(y == x): {frozendict.frozendict({x: -1, y: 0})}, Not(0 == x): {frozendict.frozendict({x: -1, y: 0}), frozendict.frozendict({x: -1, y: -1})}, y == 0: {frozendict.frozendict({x: -1, y: 0})}, Not(y >= x): set(), Not(x == 0): {frozendict.frozendict({x: -1, y: 0}), frozendict.frozendict({x: -1, y: -1})}, Not(y >= 0): {frozendict.frozendict({x: -1, y: -1})}, x == y: {frozendict.frozendict({x: -1, y: -1})}, Not(0 == y): {frozendict.frozendict({x: -1, y: -1})}, y == x: {frozendict.frozendict({x: -1, y: -1})}, x <= y: {frozendict.frozendict({x: -1, y: 0}), frozendict.frozendict({x: -1, y: -1})}}\n",
      "         construct_decision_tree {frozendict.frozendict({x: -1, y: 0}), frozendict.frozendict({x: -1, y: -1})} {x: {frozendict.frozendict({x: -1, y: -1})}, 0: {frozendict.frozendict({x: -1, y: 0})}, 1: set(), y: {frozendict.frozendict({x: -1, y: 0}), frozendict.frozendict({x: -1, y: -1})}} {Not(x == y), x >= 0, y <= x, 0 == y, y >= 0, 0 == x, x >= y, 0 <= y, Not(x >= y), 0 <= x, Not(y == 0), y >= x, x == 0, Not(y == x), Not(0 == x), y == 0, Not(y >= x), Not(x == 0), Not(y >= 0), x == y, Not(0 == y), y == x, x <= y} {Not(x == y): {frozendict.frozendict({x: -1, y: 0})}, x >= 0: set(), y <= x: {frozendict.frozendict({x: -1, y: -1})}, 0 == y: {frozendict.frozendict({x: -1, y: 0})}, y >= 0: {frozendict.frozendict({x: -1, y: 0})}, 0 == x: set(), x >= y: {frozendict.frozendict({x: -1, y: -1})}, 0 <= y: {frozendict.frozendict({x: -1, y: 0})}, Not(x >= y): {frozendict.frozendict({x: -1, y: 0})}, 0 <= x: set(), Not(y == 0): {frozendict.frozendict({x: -1, y: -1})}, y >= x: {frozendict.frozendict({x: -1, y: 0}), frozendict.frozendict({x: -1, y: -1})}, x == 0: set(), Not(y == x): {frozendict.frozendict({x: -1, y: 0})}, Not(0 == x): {frozendict.frozendict({x: -1, y: 0}), frozendict.frozendict({x: -1, y: -1})}, y == 0: {frozendict.frozendict({x: -1, y: 0})}, Not(y >= x): set(), Not(x == 0): {frozendict.frozendict({x: -1, y: 0}), frozendict.frozendict({x: -1, y: -1})}, Not(y >= 0): {frozendict.frozendict({x: -1, y: -1})}, x == y: {frozendict.frozendict({x: -1, y: -1})}, Not(0 == y): {frozendict.frozendict({x: -1, y: -1})}, y == x: {frozendict.frozendict({x: -1, y: -1})}, x <= y: {frozendict.frozendict({x: -1, y: 0}), frozendict.frozendict({x: -1, y: -1})}}\n",
      "         y covers all counterexamples, yielding\n",
      "     right_subtree_counterexample_set: {frozendict.frozendict({x: 0, y: -1})}\n",
      "     right_subtree_term_to_covered_counterexample_set_dict: {x: {frozendict.frozendict({x: 0, y: -1})}, 0: {frozendict.frozendict({x: 0, y: -1})}, 1: set(), y: set()}\n",
      "     right_subtree_predicate_set: {Not(x == y), x >= 0, y <= x, 0 == y, y >= 0, 0 == x, x >= y, 0 <= y, Not(x >= y), 0 <= x, Not(y == 0), y >= x, x == 0, Not(y == x), Not(0 == x), y == 0, Not(y >= x), Not(x == 0), Not(y >= 0), x == y, Not(0 == y), y == x, x <= y}\n",
      "     right_subtree_predicate_to_covered_counterexample_set_dict: {Not(x == y): {frozendict.frozendict({x: 0, y: -1})}, x >= 0: {frozendict.frozendict({x: 0, y: -1})}, y <= x: {frozendict.frozendict({x: 0, y: -1})}, 0 == y: set(), y >= 0: set(), 0 == x: {frozendict.frozendict({x: 0, y: -1})}, x >= y: {frozendict.frozendict({x: 0, y: -1})}, 0 <= y: set(), Not(x >= y): set(), 0 <= x: {frozendict.frozendict({x: 0, y: -1})}, Not(y == 0): {frozendict.frozendict({x: 0, y: -1})}, y >= x: set(), x == 0: {frozendict.frozendict({x: 0, y: -1})}, Not(y == x): {frozendict.frozendict({x: 0, y: -1})}, Not(0 == x): set(), y == 0: set(), Not(y >= x): {frozendict.frozendict({x: 0, y: -1})}, Not(x == 0): set(), Not(y >= 0): {frozendict.frozendict({x: 0, y: -1})}, x == y: set(), Not(0 == y): {frozendict.frozendict({x: 0, y: -1})}, y == x: set(), x <= y: set()}\n",
      "         construct_decision_tree {frozendict.frozendict({x: 0, y: -1})} {x: {frozendict.frozendict({x: 0, y: -1})}, 0: {frozendict.frozendict({x: 0, y: -1})}, 1: set(), y: set()} {Not(x == y), x >= 0, y <= x, 0 == y, y >= 0, 0 == x, x >= y, 0 <= y, Not(x >= y), 0 <= x, Not(y == 0), y >= x, x == 0, Not(y == x), Not(0 == x), y == 0, Not(y >= x), Not(x == 0), Not(y >= 0), x == y, Not(0 == y), y == x, x <= y} {Not(x == y): {frozendict.frozendict({x: 0, y: -1})}, x >= 0: {frozendict.frozendict({x: 0, y: -1})}, y <= x: {frozendict.frozendict({x: 0, y: -1})}, 0 == y: set(), y >= 0: set(), 0 == x: {frozendict.frozendict({x: 0, y: -1})}, x >= y: {frozendict.frozendict({x: 0, y: -1})}, 0 <= y: set(), Not(x >= y): set(), 0 <= x: {frozendict.frozendict({x: 0, y: -1})}, Not(y == 0): {frozendict.frozendict({x: 0, y: -1})}, y >= x: set(), x == 0: {frozendict.frozendict({x: 0, y: -1})}, Not(y == x): {frozendict.frozendict({x: 0, y: -1})}, Not(0 == x): set(), y == 0: set(), Not(y >= x): {frozendict.frozendict({x: 0, y: -1})}, Not(x == 0): set(), Not(y >= 0): {frozendict.frozendict({x: 0, y: -1})}, x == y: set(), Not(0 == y): {frozendict.frozendict({x: 0, y: -1})}, y == x: set(), x <= y: set()}\n",
      "         x covers all counterexamples, yielding\n",
      "         0 covers all counterexamples, yielding\n",
      "     yielding If(Not(x >= 0), y, x)\n",
      " decision_tree: If(Not(x >= 0), y, x)\n"
     ]
    }
   ],
   "source": [
    "print(f'z3_expr_ref {z3_expr_ref}')\n",
    "\n",
    "z3_counterexample_input = z3_verification_oracle_instance.send(z3_expr_ref)\n",
    "\n",
    "if z3_counterexample_input is not None:\n",
    "    z3_expr_ref = z3_divide_and_conquer_enumerative_approach_instance.send(z3_counterexample_input)\n",
    "    \n",
    "print(f'z3_counterexample_input {z3_counterexample_input}')"
   ]
  },
  {
   "cell_type": "code",
   "execution_count": 8,
   "id": "e47efb62-1e55-48f0-8595-373b6f5a8460",
   "metadata": {},
   "outputs": [
    {
     "name": "stdout",
     "output_type": "stream",
     "text": [
      "z3_expr_ref If(Not(x >= 0), y, x)\n"
     ]
    },
    {
     "name": "stderr",
     "output_type": "stream",
     "text": [
      " counterexample: frozendict.frozendict({x: -1, y: -2})\n",
      " counterexample_set: {frozendict.frozendict({x: -1, y: -2}), frozendict.frozendict({x: 0, y: -1}), frozendict.frozendict({x: -1, y: 0}), frozendict.frozendict({x: -1, y: -1})}\n",
      " term_to_covered_counterexample_set_dict: {x: {frozendict.frozendict({x: -1, y: -2}), frozendict.frozendict({x: 0, y: -1}), frozendict.frozendict({x: -1, y: -1})}, 0: {frozendict.frozendict({x: 0, y: -1}), frozendict.frozendict({x: -1, y: 0})}, 1: set(), y: {frozendict.frozendict({x: -1, y: 0}), frozendict.frozendict({x: -1, y: -1})}}\n",
      " predicate_to_covered_counterexample_set_dict: {Not(1 >= y): set(), Not(x >= 0): {frozendict.frozendict({x: -1, y: -2}), frozendict.frozendict({x: -1, y: 0}), frozendict.frozendict({x: -1, y: -1})}, Not(x == y): {frozendict.frozendict({x: -1, y: -2}), frozendict.frozendict({x: 0, y: -1}), frozendict.frozendict({x: -1, y: 0})}, Not(x >= 1): {frozendict.frozendict({x: -1, y: -2}), frozendict.frozendict({x: 0, y: -1}), frozendict.frozendict({x: -1, y: 0}), frozendict.frozendict({x: -1, y: -1})}, y <= 1: {frozendict.frozendict({x: -1, y: -2}), frozendict.frozendict({x: 0, y: -1}), frozendict.frozendict({x: -1, y: 0}), frozendict.frozendict({x: -1, y: -1})}, y >= 0: {frozendict.frozendict({x: -1, y: 0})}, 1 == y: set(), 1 == x: set(), 1 <= y: set(), x >= 1: set(), 1 <= x: set(), y >= x: {frozendict.frozendict({x: -1, y: 0}), frozendict.frozendict({x: -1, y: -1})}, Not(1 == x): {frozendict.frozendict({x: -1, y: -2}), frozendict.frozendict({x: 0, y: -1}), frozendict.frozendict({x: -1, y: 0}), frozendict.frozendict({x: -1, y: -1})}, Not(y == x): {frozendict.frozendict({x: -1, y: -2}), frozendict.frozendict({x: 0, y: -1}), frozendict.frozendict({x: -1, y: 0})}, y == 0: {frozendict.frozendict({x: -1, y: 0})}, Not(1 == y): {frozendict.frozendict({x: -1, y: -2}), frozendict.frozendict({x: 0, y: -1}), frozendict.frozendict({x: -1, y: 0}), frozendict.frozendict({x: -1, y: -1})}, Not(x == 0): {frozendict.frozendict({x: -1, y: -2}), frozendict.frozendict({x: -1, y: 0}), frozendict.frozendict({x: -1, y: -1})}, 0 >= y: {frozendict.frozendict({x: -1, y: -2}), frozendict.frozendict({x: 0, y: -1}), frozendict.frozendict({x: -1, y: 0}), frozendict.frozendict({x: -1, y: -1})}, Not(y >= 0): {frozendict.frozendict({x: -1, y: -2}), frozendict.frozendict({x: 0, y: -1}), frozendict.frozendict({x: -1, y: -1})}, Not(x == 1): {frozendict.frozendict({x: -1, y: -2}), frozendict.frozendict({x: 0, y: -1}), frozendict.frozendict({x: -1, y: 0}), frozendict.frozendict({x: -1, y: -1})}, 0 >= x: {frozendict.frozendict({x: -1, y: -2}), frozendict.frozendict({x: 0, y: -1}), frozendict.frozendict({x: -1, y: 0}), frozendict.frozendict({x: -1, y: -1})}, Not(y >= 1): {frozendict.frozendict({x: -1, y: -2}), frozendict.frozendict({x: 0, y: -1}), frozendict.frozendict({x: -1, y: 0}), frozendict.frozendict({x: -1, y: -1})}, y <= 0: {frozendict.frozendict({x: -1, y: -2}), frozendict.frozendict({x: 0, y: -1}), frozendict.frozendict({x: -1, y: 0}), frozendict.frozendict({x: -1, y: -1})}, x == 1: set(), y == x: {frozendict.frozendict({x: -1, y: -1})}, Not(0 >= x): set(), x <= 1: {frozendict.frozendict({x: -1, y: -2}), frozendict.frozendict({x: 0, y: -1}), frozendict.frozendict({x: -1, y: 0}), frozendict.frozendict({x: -1, y: -1})}, x >= 0: {frozendict.frozendict({x: 0, y: -1})}, Not(0 >= y): set(), y <= x: {frozendict.frozendict({x: -1, y: -2}), frozendict.frozendict({x: 0, y: -1}), frozendict.frozendict({x: -1, y: -1})}, 0 == y: {frozendict.frozendict({x: -1, y: 0})}, 0 == x: {frozendict.frozendict({x: 0, y: -1})}, x >= y: {frozendict.frozendict({x: -1, y: -2}), frozendict.frozendict({x: 0, y: -1}), frozendict.frozendict({x: -1, y: -1})}, 0 <= y: {frozendict.frozendict({x: -1, y: 0})}, Not(x >= y): {frozendict.frozendict({x: -1, y: 0})}, 0 <= x: {frozendict.frozendict({x: 0, y: -1})}, Not(y == 0): {frozendict.frozendict({x: -1, y: -2}), frozendict.frozendict({x: 0, y: -1}), frozendict.frozendict({x: -1, y: -1})}, y >= 1: set(), Not(y == 1): {frozendict.frozendict({x: -1, y: -2}), frozendict.frozendict({x: 0, y: -1}), frozendict.frozendict({x: -1, y: 0}), frozendict.frozendict({x: -1, y: -1})}, x == 0: {frozendict.frozendict({x: 0, y: -1})}, Not(0 == x): {frozendict.frozendict({x: -1, y: -2}), frozendict.frozendict({x: -1, y: 0}), frozendict.frozendict({x: -1, y: -1})}, Not(1 >= x): set(), x <= 0: {frozendict.frozendict({x: -1, y: -2}), frozendict.frozendict({x: 0, y: -1}), frozendict.frozendict({x: -1, y: 0}), frozendict.frozendict({x: -1, y: -1})}, x == y: {frozendict.frozendict({x: -1, y: -1})}, 1 >= y: {frozendict.frozendict({x: -1, y: -2}), frozendict.frozendict({x: 0, y: -1}), frozendict.frozendict({x: -1, y: 0}), frozendict.frozendict({x: -1, y: -1})}, Not(0 == y): {frozendict.frozendict({x: -1, y: -2}), frozendict.frozendict({x: 0, y: -1}), frozendict.frozendict({x: -1, y: -1})}, 1 >= x: {frozendict.frozendict({x: -1, y: -2}), frozendict.frozendict({x: 0, y: -1}), frozendict.frozendict({x: -1, y: 0}), frozendict.frozendict({x: -1, y: -1})}, x <= y: {frozendict.frozendict({x: -1, y: 0}), frozendict.frozendict({x: -1, y: -1})}, Not(y >= x): {frozendict.frozendict({x: -1, y: -2}), frozendict.frozendict({x: 0, y: -1})}, y == 1: set()}\n",
      "     construct_decision_tree {frozendict.frozendict({x: -1, y: -2}), frozendict.frozendict({x: 0, y: -1}), frozendict.frozendict({x: -1, y: 0}), frozendict.frozendict({x: -1, y: -1})} {x: {frozendict.frozendict({x: -1, y: -2}), frozendict.frozendict({x: 0, y: -1}), frozendict.frozendict({x: -1, y: -1})}, 0: {frozendict.frozendict({x: 0, y: -1}), frozendict.frozendict({x: -1, y: 0})}, 1: set(), y: {frozendict.frozendict({x: -1, y: 0}), frozendict.frozendict({x: -1, y: -1})}} {1 >= x, Not(1 >= y), Not(x >= 0), Not(x == y), Not(x >= 1), y <= 1, y >= 0, 1 == y, 1 == x, 1 <= y, x >= 1, 1 <= x, y >= x, y == 1, Not(1 == x), Not(y == x), y == 0, Not(1 == y), Not(x == 0), 0 >= y, Not(y >= 0), Not(x == 1), 0 >= x, Not(y >= 1), y <= 0, x == 1, y == x, Not(0 >= x), x <= 1, x >= 0, Not(0 >= y), y <= x, 0 == y, 0 == x, x >= y, 0 <= y, Not(x >= y), 0 <= x, Not(y == 0), y >= 1, Not(y == 1), x == 0, Not(0 == x), x <= 0, x == y, 1 >= y, Not(0 == y), Not(1 >= x), Not(y >= x), x <= y} {Not(1 >= y): set(), Not(x >= 0): {frozendict.frozendict({x: -1, y: -2}), frozendict.frozendict({x: -1, y: 0}), frozendict.frozendict({x: -1, y: -1})}, Not(x == y): {frozendict.frozendict({x: -1, y: -2}), frozendict.frozendict({x: 0, y: -1}), frozendict.frozendict({x: -1, y: 0})}, Not(x >= 1): {frozendict.frozendict({x: -1, y: -2}), frozendict.frozendict({x: 0, y: -1}), frozendict.frozendict({x: -1, y: 0}), frozendict.frozendict({x: -1, y: -1})}, y <= 1: {frozendict.frozendict({x: -1, y: -2}), frozendict.frozendict({x: 0, y: -1}), frozendict.frozendict({x: -1, y: 0}), frozendict.frozendict({x: -1, y: -1})}, y >= 0: {frozendict.frozendict({x: -1, y: 0})}, 1 == y: set(), 1 == x: set(), 1 <= y: set(), x >= 1: set(), 1 <= x: set(), y >= x: {frozendict.frozendict({x: -1, y: 0}), frozendict.frozendict({x: -1, y: -1})}, Not(1 == x): {frozendict.frozendict({x: -1, y: -2}), frozendict.frozendict({x: 0, y: -1}), frozendict.frozendict({x: -1, y: 0}), frozendict.frozendict({x: -1, y: -1})}, Not(y == x): {frozendict.frozendict({x: -1, y: -2}), frozendict.frozendict({x: 0, y: -1}), frozendict.frozendict({x: -1, y: 0})}, y == 0: {frozendict.frozendict({x: -1, y: 0})}, Not(1 == y): {frozendict.frozendict({x: -1, y: -2}), frozendict.frozendict({x: 0, y: -1}), frozendict.frozendict({x: -1, y: 0}), frozendict.frozendict({x: -1, y: -1})}, Not(x == 0): {frozendict.frozendict({x: -1, y: -2}), frozendict.frozendict({x: -1, y: 0}), frozendict.frozendict({x: -1, y: -1})}, 0 >= y: {frozendict.frozendict({x: -1, y: -2}), frozendict.frozendict({x: 0, y: -1}), frozendict.frozendict({x: -1, y: 0}), frozendict.frozendict({x: -1, y: -1})}, Not(y >= 0): {frozendict.frozendict({x: -1, y: -2}), frozendict.frozendict({x: 0, y: -1}), frozendict.frozendict({x: -1, y: -1})}, Not(x == 1): {frozendict.frozendict({x: -1, y: -2}), frozendict.frozendict({x: 0, y: -1}), frozendict.frozendict({x: -1, y: 0}), frozendict.frozendict({x: -1, y: -1})}, 0 >= x: {frozendict.frozendict({x: -1, y: -2}), frozendict.frozendict({x: 0, y: -1}), frozendict.frozendict({x: -1, y: 0}), frozendict.frozendict({x: -1, y: -1})}, Not(y >= 1): {frozendict.frozendict({x: -1, y: -2}), frozendict.frozendict({x: 0, y: -1}), frozendict.frozendict({x: -1, y: 0}), frozendict.frozendict({x: -1, y: -1})}, y <= 0: {frozendict.frozendict({x: -1, y: -2}), frozendict.frozendict({x: 0, y: -1}), frozendict.frozendict({x: -1, y: 0}), frozendict.frozendict({x: -1, y: -1})}, x == 1: set(), y == x: {frozendict.frozendict({x: -1, y: -1})}, Not(0 >= x): set(), x <= 1: {frozendict.frozendict({x: -1, y: -2}), frozendict.frozendict({x: 0, y: -1}), frozendict.frozendict({x: -1, y: 0}), frozendict.frozendict({x: -1, y: -1})}, x >= 0: {frozendict.frozendict({x: 0, y: -1})}, Not(0 >= y): set(), y <= x: {frozendict.frozendict({x: -1, y: -2}), frozendict.frozendict({x: 0, y: -1}), frozendict.frozendict({x: -1, y: -1})}, 0 == y: {frozendict.frozendict({x: -1, y: 0})}, 0 == x: {frozendict.frozendict({x: 0, y: -1})}, x >= y: {frozendict.frozendict({x: -1, y: -2}), frozendict.frozendict({x: 0, y: -1}), frozendict.frozendict({x: -1, y: -1})}, 0 <= y: {frozendict.frozendict({x: -1, y: 0})}, Not(x >= y): {frozendict.frozendict({x: -1, y: 0})}, 0 <= x: {frozendict.frozendict({x: 0, y: -1})}, Not(y == 0): {frozendict.frozendict({x: -1, y: -2}), frozendict.frozendict({x: 0, y: -1}), frozendict.frozendict({x: -1, y: -1})}, y >= 1: set(), Not(y == 1): {frozendict.frozendict({x: -1, y: -2}), frozendict.frozendict({x: 0, y: -1}), frozendict.frozendict({x: -1, y: 0}), frozendict.frozendict({x: -1, y: -1})}, x == 0: {frozendict.frozendict({x: 0, y: -1})}, Not(0 == x): {frozendict.frozendict({x: -1, y: -2}), frozendict.frozendict({x: -1, y: 0}), frozendict.frozendict({x: -1, y: -1})}, Not(1 >= x): set(), x <= 0: {frozendict.frozendict({x: -1, y: -2}), frozendict.frozendict({x: 0, y: -1}), frozendict.frozendict({x: -1, y: 0}), frozendict.frozendict({x: -1, y: -1})}, x == y: {frozendict.frozendict({x: -1, y: -1})}, 1 >= y: {frozendict.frozendict({x: -1, y: -2}), frozendict.frozendict({x: 0, y: -1}), frozendict.frozendict({x: -1, y: 0}), frozendict.frozendict({x: -1, y: -1})}, Not(0 == y): {frozendict.frozendict({x: -1, y: -2}), frozendict.frozendict({x: 0, y: -1}), frozendict.frozendict({x: -1, y: -1})}, 1 >= x: {frozendict.frozendict({x: -1, y: -2}), frozendict.frozendict({x: 0, y: -1}), frozendict.frozendict({x: -1, y: 0}), frozendict.frozendict({x: -1, y: -1})}, x <= y: {frozendict.frozendict({x: -1, y: 0}), frozendict.frozendict({x: -1, y: -1})}, Not(y >= x): {frozendict.frozendict({x: -1, y: -2}), frozendict.frozendict({x: 0, y: -1})}, y == 1: set()}\n",
      "     predicate_to_information_gain_dict: {Not(x >= 0): 1.9173788301928059, Not(x == y): 1.9173788301928059, x >= 0: 1.9173788301928059, y <= x: 1.790328205207059, 0 == y: 1.790328205207059, y >= 0: 1.790328205207059, 0 == x: 1.9173788301928059, x >= y: 1.790328205207059, 0 <= y: 1.790328205207059, Not(x >= y): 1.790328205207059, 0 <= x: 1.9173788301928059, Not(y == 0): 1.790328205207059, y >= x: 1.8547763985214714, x == 0: 1.9173788301928059, Not(y == x): 1.9173788301928059, Not(0 == x): 1.9173788301928059, y == 0: 1.790328205207059, Not(y >= x): 1.8547763985214714, Not(x == 0): 1.9173788301928059, Not(y >= 0): 1.790328205207059, x == y: 1.9173788301928059, Not(0 == y): 1.790328205207059, y == x: 1.9173788301928059, x <= y: 1.8547763985214714}\n",
      "     predicate: y <= x\n",
      "     left_subtree_counterexample_set: {frozendict.frozendict({x: -1, y: -2}), frozendict.frozendict({x: 0, y: -1}), frozendict.frozendict({x: -1, y: -1})}\n",
      "     left_subtree_term_to_covered_counterexample_set_dict: {x: {frozendict.frozendict({x: -1, y: -2}), frozendict.frozendict({x: 0, y: -1}), frozendict.frozendict({x: -1, y: -1})}, 0: {frozendict.frozendict({x: 0, y: -1})}, 1: set(), y: {frozendict.frozendict({x: -1, y: -1})}}\n",
      "     left_subtree_predicate_set: {Not(x >= 0), Not(x == y), x >= 0, 0 == y, y >= 0, 0 == x, x >= y, 0 <= y, Not(x >= y), 0 <= x, Not(y == 0), y >= x, x == 0, Not(y == x), Not(0 == x), y == 0, Not(y >= x), Not(x == 0), Not(y >= 0), x == y, Not(0 == y), y == x, x <= y}\n",
      "     left_subtree_predicate_to_covered_counterexample_set_dict: {Not(x >= 0): {frozendict.frozendict({x: -1, y: -2}), frozendict.frozendict({x: -1, y: -1})}, Not(x == y): {frozendict.frozendict({x: -1, y: -2}), frozendict.frozendict({x: 0, y: -1})}, x >= 0: {frozendict.frozendict({x: 0, y: -1})}, 0 == y: set(), y >= 0: set(), 0 == x: {frozendict.frozendict({x: 0, y: -1})}, x >= y: {frozendict.frozendict({x: -1, y: -2}), frozendict.frozendict({x: 0, y: -1}), frozendict.frozendict({x: -1, y: -1})}, 0 <= y: set(), Not(x >= y): set(), 0 <= x: {frozendict.frozendict({x: 0, y: -1})}, Not(y == 0): {frozendict.frozendict({x: -1, y: -2}), frozendict.frozendict({x: 0, y: -1}), frozendict.frozendict({x: -1, y: -1})}, y >= x: {frozendict.frozendict({x: -1, y: -1})}, x == 0: {frozendict.frozendict({x: 0, y: -1})}, Not(y == x): {frozendict.frozendict({x: -1, y: -2}), frozendict.frozendict({x: 0, y: -1})}, Not(0 == x): {frozendict.frozendict({x: -1, y: -2}), frozendict.frozendict({x: -1, y: -1})}, y == 0: set(), Not(y >= x): {frozendict.frozendict({x: -1, y: -2}), frozendict.frozendict({x: 0, y: -1})}, Not(x == 0): {frozendict.frozendict({x: -1, y: -2}), frozendict.frozendict({x: -1, y: -1})}, Not(y >= 0): {frozendict.frozendict({x: -1, y: -2}), frozendict.frozendict({x: 0, y: -1}), frozendict.frozendict({x: -1, y: -1})}, x == y: {frozendict.frozendict({x: -1, y: -1})}, Not(0 == y): {frozendict.frozendict({x: -1, y: -2}), frozendict.frozendict({x: 0, y: -1}), frozendict.frozendict({x: -1, y: -1})}, y == x: {frozendict.frozendict({x: -1, y: -1})}, x <= y: {frozendict.frozendict({x: -1, y: -1})}}\n",
      "         construct_decision_tree {frozendict.frozendict({x: -1, y: -2}), frozendict.frozendict({x: 0, y: -1}), frozendict.frozendict({x: -1, y: -1})} {x: {frozendict.frozendict({x: -1, y: -2}), frozendict.frozendict({x: 0, y: -1}), frozendict.frozendict({x: -1, y: -1})}, 0: {frozendict.frozendict({x: 0, y: -1})}, 1: set(), y: {frozendict.frozendict({x: -1, y: -1})}} {Not(x >= 0), Not(x == y), x >= 0, 0 == y, y >= 0, 0 == x, x >= y, 0 <= y, Not(x >= y), 0 <= x, Not(y == 0), y >= x, x == 0, Not(y == x), Not(0 == x), y == 0, Not(y >= x), Not(x == 0), Not(y >= 0), x == y, Not(0 == y), y == x, x <= y} "
     ]
    },
    {
     "name": "stdout",
     "output_type": "stream",
     "text": [
      "z3_counterexample_input frozendict.frozendict({x: -1, y: -2})\n"
     ]
    },
    {
     "name": "stderr",
     "output_type": "stream",
     "text": [
      "{Not(x >= 0): {frozendict.frozendict({x: -1, y: -2}), frozendict.frozendict({x: -1, y: -1})}, Not(x == y): {frozendict.frozendict({x: -1, y: -2}), frozendict.frozendict({x: 0, y: -1})}, x >= 0: {frozendict.frozendict({x: 0, y: -1})}, 0 == y: set(), y >= 0: set(), 0 == x: {frozendict.frozendict({x: 0, y: -1})}, x >= y: {frozendict.frozendict({x: -1, y: -2}), frozendict.frozendict({x: 0, y: -1}), frozendict.frozendict({x: -1, y: -1})}, 0 <= y: set(), Not(x >= y): set(), 0 <= x: {frozendict.frozendict({x: 0, y: -1})}, Not(y == 0): {frozendict.frozendict({x: -1, y: -2}), frozendict.frozendict({x: 0, y: -1}), frozendict.frozendict({x: -1, y: -1})}, y >= x: {frozendict.frozendict({x: -1, y: -1})}, x == 0: {frozendict.frozendict({x: 0, y: -1})}, Not(y == x): {frozendict.frozendict({x: -1, y: -2}), frozendict.frozendict({x: 0, y: -1})}, Not(0 == x): {frozendict.frozendict({x: -1, y: -2}), frozendict.frozendict({x: -1, y: -1})}, y == 0: set(), Not(y >= x): {frozendict.frozendict({x: -1, y: -2}), frozendict.frozendict({x: 0, y: -1})}, Not(x == 0): {frozendict.frozendict({x: -1, y: -2}), frozendict.frozendict({x: -1, y: -1})}, Not(y >= 0): {frozendict.frozendict({x: -1, y: -2}), frozendict.frozendict({x: 0, y: -1}), frozendict.frozendict({x: -1, y: -1})}, x == y: {frozendict.frozendict({x: -1, y: -1})}, Not(0 == y): {frozendict.frozendict({x: -1, y: -2}), frozendict.frozendict({x: 0, y: -1}), frozendict.frozendict({x: -1, y: -1})}, y == x: {frozendict.frozendict({x: -1, y: -1})}, x <= y: {frozendict.frozendict({x: -1, y: -1})}}\n",
      "         x covers all counterexamples, yielding\n",
      "     right_subtree_counterexample_set: {frozendict.frozendict({x: -1, y: 0})}\n",
      "     right_subtree_term_to_covered_counterexample_set_dict: {x: set(), 0: {frozendict.frozendict({x: -1, y: 0})}, 1: set(), y: {frozendict.frozendict({x: -1, y: 0})}}\n",
      "     right_subtree_predicate_set: {Not(x >= 0), Not(x == y), x >= 0, 0 == y, y >= 0, 0 == x, x >= y, 0 <= y, Not(x >= y), 0 <= x, Not(y == 0), y >= x, x == 0, Not(y == x), Not(0 == x), y == 0, Not(y >= x), Not(x == 0), Not(y >= 0), x == y, Not(0 == y), y == x, x <= y}\n",
      "     right_subtree_predicate_to_covered_counterexample_set_dict: {Not(x >= 0): {frozendict.frozendict({x: -1, y: 0})}, Not(x == y): {frozendict.frozendict({x: -1, y: 0})}, x >= 0: set(), 0 == y: {frozendict.frozendict({x: -1, y: 0})}, y >= 0: {frozendict.frozendict({x: -1, y: 0})}, 0 == x: set(), x >= y: set(), 0 <= y: {frozendict.frozendict({x: -1, y: 0})}, Not(x >= y): {frozendict.frozendict({x: -1, y: 0})}, 0 <= x: set(), Not(y == 0): set(), y >= x: {frozendict.frozendict({x: -1, y: 0})}, x == 0: set(), Not(y == x): {frozendict.frozendict({x: -1, y: 0})}, Not(0 == x): {frozendict.frozendict({x: -1, y: 0})}, y == 0: {frozendict.frozendict({x: -1, y: 0})}, Not(y >= x): set(), Not(x == 0): {frozendict.frozendict({x: -1, y: 0})}, Not(y >= 0): set(), x == y: set(), Not(0 == y): set(), y == x: set(), x <= y: {frozendict.frozendict({x: -1, y: 0})}}\n",
      "         construct_decision_tree {frozendict.frozendict({x: -1, y: 0})} {x: set(), 0: {frozendict.frozendict({x: -1, y: 0})}, 1: set(), y: {frozendict.frozendict({x: -1, y: 0})}} {Not(x >= 0), Not(x == y), x >= 0, 0 == y, y >= 0, 0 == x, x >= y, 0 <= y, Not(x >= y), 0 <= x, Not(y == 0), y >= x, x == 0, Not(y == x), Not(0 == x), y == 0, Not(y >= x), Not(x == 0), Not(y >= 0), x == y, Not(0 == y), y == x, x <= y} {Not(x >= 0): {frozendict.frozendict({x: -1, y: 0})}, Not(x == y): {frozendict.frozendict({x: -1, y: 0})}, x >= 0: set(), 0 == y: {frozendict.frozendict({x: -1, y: 0})}, y >= 0: {frozendict.frozendict({x: -1, y: 0})}, 0 == x: set(), x >= y: set(), 0 <= y: {frozendict.frozendict({x: -1, y: 0})}, Not(x >= y): {frozendict.frozendict({x: -1, y: 0})}, 0 <= x: set(), Not(y == 0): set(), y >= x: {frozendict.frozendict({x: -1, y: 0})}, x == 0: set(), Not(y == x): {frozendict.frozendict({x: -1, y: 0})}, Not(0 == x): {frozendict.frozendict({x: -1, y: 0})}, y == 0: {frozendict.frozendict({x: -1, y: 0})}, Not(y >= x): set(), Not(x == 0): {frozendict.frozendict({x: -1, y: 0})}, Not(y >= 0): set(), x == y: set(), Not(0 == y): set(), y == x: set(), x <= y: {frozendict.frozendict({x: -1, y: 0})}}\n",
      "         0 covers all counterexamples, yielding\n",
      "         y covers all counterexamples, yielding\n",
      "     yielding If(y <= x, x, 0)\n",
      " decision_tree: If(y <= x, x, 0)\n"
     ]
    }
   ],
   "source": [
    "print(f'z3_expr_ref {z3_expr_ref}')\n",
    "\n",
    "z3_counterexample_input = z3_verification_oracle_instance.send(z3_expr_ref)\n",
    "\n",
    "if z3_counterexample_input is not None:\n",
    "    z3_expr_ref = z3_divide_and_conquer_enumerative_approach_instance.send(z3_counterexample_input)\n",
    "    \n",
    "print(f'z3_counterexample_input {z3_counterexample_input}')"
   ]
  },
  {
   "cell_type": "code",
   "execution_count": 9,
   "id": "90b802ab-8bff-47c0-983b-50050b9996d6",
   "metadata": {},
   "outputs": [
    {
     "name": "stdout",
     "output_type": "stream",
     "text": [
      "z3_expr_ref If(y <= x, x, 0)\n"
     ]
    },
    {
     "name": "stderr",
     "output_type": "stream",
     "text": [
      " counterexample: frozendict.frozendict({x: 1, y: 2})\n",
      " counterexample_set: {frozendict.frozendict({x: -1, y: -1}), frozendict.frozendict({x: 1, y: 2}), frozendict.frozendict({x: -1, y: -2}), frozendict.frozendict({x: 0, y: -1}), frozendict.frozendict({x: -1, y: 0})}\n",
      " term_to_covered_counterexample_set_dict: {x: {frozendict.frozendict({x: -1, y: -2}), frozendict.frozendict({x: 0, y: -1}), frozendict.frozendict({x: -1, y: -1})}, 0: {frozendict.frozendict({x: 0, y: -1}), frozendict.frozendict({x: -1, y: 0})}, 1: set(), y: {frozendict.frozendict({x: 1, y: 2}), frozendict.frozendict({x: -1, y: 0}), frozendict.frozendict({x: -1, y: -1})}}\n",
      " predicate_to_covered_counterexample_set_dict: {Not(1 >= y): {frozendict.frozendict({x: 1, y: 2})}, Not(x >= 0): {frozendict.frozendict({x: -1, y: -2}), frozendict.frozendict({x: -1, y: 0}), frozendict.frozendict({x: -1, y: -1})}, Not(x == y): {frozendict.frozendict({x: 1, y: 2}), frozendict.frozendict({x: -1, y: -2}), frozendict.frozendict({x: 0, y: -1}), frozendict.frozendict({x: -1, y: 0})}, Not(x >= 1): {frozendict.frozendict({x: -1, y: -2}), frozendict.frozendict({x: 0, y: -1}), frozendict.frozendict({x: -1, y: 0}), frozendict.frozendict({x: -1, y: -1})}, y <= 1: {frozendict.frozendict({x: -1, y: -2}), frozendict.frozendict({x: 0, y: -1}), frozendict.frozendict({x: -1, y: 0}), frozendict.frozendict({x: -1, y: -1})}, y >= 0: {frozendict.frozendict({x: 1, y: 2}), frozendict.frozendict({x: -1, y: 0})}, 1 == y: set(), 1 == x: {frozendict.frozendict({x: 1, y: 2})}, 1 <= y: {frozendict.frozendict({x: 1, y: 2})}, x >= 1: {frozendict.frozendict({x: 1, y: 2})}, 1 <= x: {frozendict.frozendict({x: 1, y: 2})}, y >= x: {frozendict.frozendict({x: 1, y: 2}), frozendict.frozendict({x: -1, y: 0}), frozendict.frozendict({x: -1, y: -1})}, Not(1 == x): {frozendict.frozendict({x: -1, y: -2}), frozendict.frozendict({x: 0, y: -1}), frozendict.frozendict({x: -1, y: 0}), frozendict.frozendict({x: -1, y: -1})}, Not(y == x): {frozendict.frozendict({x: 1, y: 2}), frozendict.frozendict({x: -1, y: -2}), frozendict.frozendict({x: 0, y: -1}), frozendict.frozendict({x: -1, y: 0})}, y == 0: {frozendict.frozendict({x: -1, y: 0})}, Not(1 == y): {frozendict.frozendict({x: -1, y: -1}), frozendict.frozendict({x: 1, y: 2}), frozendict.frozendict({x: -1, y: -2}), frozendict.frozendict({x: 0, y: -1}), frozendict.frozendict({x: -1, y: 0})}, Not(x == 0): {frozendict.frozendict({x: 1, y: 2}), frozendict.frozendict({x: -1, y: -2}), frozendict.frozendict({x: -1, y: 0}), frozendict.frozendict({x: -1, y: -1})}, 0 >= y: {frozendict.frozendict({x: -1, y: -2}), frozendict.frozendict({x: 0, y: -1}), frozendict.frozendict({x: -1, y: 0}), frozendict.frozendict({x: -1, y: -1})}, Not(y >= 0): {frozendict.frozendict({x: -1, y: -2}), frozendict.frozendict({x: 0, y: -1}), frozendict.frozendict({x: -1, y: -1})}, Not(x == 1): {frozendict.frozendict({x: -1, y: -2}), frozendict.frozendict({x: 0, y: -1}), frozendict.frozendict({x: -1, y: 0}), frozendict.frozendict({x: -1, y: -1})}, 0 >= x: {frozendict.frozendict({x: -1, y: -2}), frozendict.frozendict({x: 0, y: -1}), frozendict.frozendict({x: -1, y: 0}), frozendict.frozendict({x: -1, y: -1})}, Not(y >= 1): {frozendict.frozendict({x: -1, y: -2}), frozendict.frozendict({x: 0, y: -1}), frozendict.frozendict({x: -1, y: 0}), frozendict.frozendict({x: -1, y: -1})}, y <= 0: {frozendict.frozendict({x: -1, y: -2}), frozendict.frozendict({x: 0, y: -1}), frozendict.frozendict({x: -1, y: 0}), frozendict.frozendict({x: -1, y: -1})}, x == 1: {frozendict.frozendict({x: 1, y: 2})}, y == x: {frozendict.frozendict({x: -1, y: -1})}, Not(0 >= x): {frozendict.frozendict({x: 1, y: 2})}, x <= 1: {frozendict.frozendict({x: -1, y: -1}), frozendict.frozendict({x: 1, y: 2}), frozendict.frozendict({x: -1, y: -2}), frozendict.frozendict({x: 0, y: -1}), frozendict.frozendict({x: -1, y: 0})}, x >= 0: {frozendict.frozendict({x: 1, y: 2}), frozendict.frozendict({x: 0, y: -1})}, Not(0 >= y): {frozendict.frozendict({x: 1, y: 2})}, y <= x: {frozendict.frozendict({x: -1, y: -2}), frozendict.frozendict({x: 0, y: -1}), frozendict.frozendict({x: -1, y: -1})}, 0 == y: {frozendict.frozendict({x: -1, y: 0})}, 0 == x: {frozendict.frozendict({x: 0, y: -1})}, x >= y: {frozendict.frozendict({x: -1, y: -2}), frozendict.frozendict({x: 0, y: -1}), frozendict.frozendict({x: -1, y: -1})}, 0 <= y: {frozendict.frozendict({x: 1, y: 2}), frozendict.frozendict({x: -1, y: 0})}, Not(x >= y): {frozendict.frozendict({x: 1, y: 2}), frozendict.frozendict({x: -1, y: 0})}, 0 <= x: {frozendict.frozendict({x: 1, y: 2}), frozendict.frozendict({x: 0, y: -1})}, Not(y == 0): {frozendict.frozendict({x: 1, y: 2}), frozendict.frozendict({x: -1, y: -2}), frozendict.frozendict({x: 0, y: -1}), frozendict.frozendict({x: -1, y: -1})}, y >= 1: {frozendict.frozendict({x: 1, y: 2})}, Not(y == 1): {frozendict.frozendict({x: -1, y: -1}), frozendict.frozendict({x: 1, y: 2}), frozendict.frozendict({x: -1, y: -2}), frozendict.frozendict({x: 0, y: -1}), frozendict.frozendict({x: -1, y: 0})}, x == 0: {frozendict.frozendict({x: 0, y: -1})}, Not(0 == x): {frozendict.frozendict({x: 1, y: 2}), frozendict.frozendict({x: -1, y: -2}), frozendict.frozendict({x: -1, y: 0}), frozendict.frozendict({x: -1, y: -1})}, Not(1 >= x): set(), x <= 0: {frozendict.frozendict({x: -1, y: -2}), frozendict.frozendict({x: 0, y: -1}), frozendict.frozendict({x: -1, y: 0}), frozendict.frozendict({x: -1, y: -1})}, x == y: {frozendict.frozendict({x: -1, y: -1})}, 1 >= y: {frozendict.frozendict({x: -1, y: -2}), frozendict.frozendict({x: 0, y: -1}), frozendict.frozendict({x: -1, y: 0}), frozendict.frozendict({x: -1, y: -1})}, Not(0 == y): {frozendict.frozendict({x: 1, y: 2}), frozendict.frozendict({x: -1, y: -2}), frozendict.frozendict({x: 0, y: -1}), frozendict.frozendict({x: -1, y: -1})}, 1 >= x: {frozendict.frozendict({x: -1, y: -1}), frozendict.frozendict({x: 1, y: 2}), frozendict.frozendict({x: -1, y: -2}), frozendict.frozendict({x: 0, y: -1}), frozendict.frozendict({x: -1, y: 0})}, x <= y: {frozendict.frozendict({x: 1, y: 2}), frozendict.frozendict({x: -1, y: 0}), frozendict.frozendict({x: -1, y: -1})}, Not(y >= x): {frozendict.frozendict({x: -1, y: -2}), frozendict.frozendict({x: 0, y: -1})}, y == 1: set()}\n",
      "     construct_decision_tree {frozendict.frozendict({x: 1, y: 2}), frozendict.frozendict({x: -1, y: -2}), frozendict.frozendict({x: 0, y: -1}), frozendict.frozendict({x: -1, y: 0}), frozendict.frozendict({x: -1, y: -1})} {x: {frozendict.frozendict({x: -1, y: -2}), frozendict.frozendict({x: 0, y: -1}), frozendict.frozendict({x: -1, y: -1})}, 0: {frozendict.frozendict({x: 0, y: -1}), frozendict.frozendict({x: -1, y: 0})}, 1: set(), y: {frozendict.frozendict({x: 1, y: 2}), frozendict.frozendict({x: -1, y: 0}), frozendict.frozendict({x: -1, y: -1})}} {1 >= x, Not(1 >= y), Not(x >= 0), Not(x == y), Not(x >= 1), y <= 1, y >= 0, 1 == y, 1 == x, 1 <= y, x >= 1, 1 <= x, y >= x, y == 1, Not(1 == x), Not(y == x), y == 0, Not(1 == y), Not(x == 0), 0 >= y, Not(y >= 0), Not(x == 1), 0 >= x, Not(y >= 1), y <= 0, x == 1, y == x, Not(0 >= x), x <= 1, x >= 0, Not(0 >= y), y <= x, 0 == y, 0 == x, x >= y, 0 <= y, Not(x >= y), 0 <= x, Not(y == 0), y >= 1, Not(y == 1), x == 0, Not(0 == x), x <= 0, x == y, 1 >= y, Not(0 == y), Not(1 >= x), Not(y >= x), x <= y} {Not(1 >= y): {frozendict.frozendict({x: 1, y: 2})}, Not(x >= 0): {frozendict.frozendict({x: -1, y: -2}), frozendict.frozendict({x: -1, y: 0}), frozendict.frozendict({x: -1, y: -1})}, Not(x == y): {frozendict.frozendict({x: 1, y: 2}), frozendict.frozendict({x: -1, y: -2}), frozendict.frozendict({x: 0, y: -1}), frozendict.frozendict({x: -1, y: 0})}, Not(x >= 1): {frozendict.frozendict({x: -1, y: -2}), frozendict.frozendict({x: 0, y: -1}), frozendict.frozendict({x: -1, y: 0}), frozendict.frozendict({x: -1, y: -1})}, y <= 1: {frozendict.frozendict({x: -1, y: -2}), frozendict.frozendict({x: 0, y: -1}), frozendict.frozendict({x: -1, y: 0}), frozendict.frozendict({x: -1, y: -1})}, y >= 0: {frozendict.frozendict({x: 1, y: 2}), frozendict.frozendict({x: -1, y: 0})}, 1 == y: set(), 1 == x: {frozendict.frozendict({x: 1, y: 2})}, 1 <= y: {frozendict.frozendict({x: 1, y: 2})}, x >= 1: {frozendict.frozendict({x: 1, y: 2})}, 1 <= x: {frozendict.frozendict({x: 1, y: 2})}, y >= x: {frozendict.frozendict({x: 1, y: 2}), frozendict.frozendict({x: -1, y: 0}), frozendict.frozendict({x: -1, y: -1})}, Not(1 == x): {frozendict.frozendict({x: -1, y: -2}), frozendict.frozendict({x: 0, y: -1}), frozendict.frozendict({x: -1, y: 0}), frozendict.frozendict({x: -1, y: -1})}, Not(y == x): {frozendict.frozendict({x: 1, y: 2}), frozendict.frozendict({x: -1, y: -2}), frozendict.frozendict({x: 0, y: -1}), frozendict.frozendict({x: -1, y: 0})}, y == 0: {frozendict.frozendict({x: -1, y: 0})}, Not(1 == y): {frozendict.frozendict({x: -1, y: -1}), frozendict.frozendict({x: 1, y: 2}), frozendict.frozendict({x: -1, y: -2}), frozendict.frozendict({x: 0, y: -1}), frozendict.frozendict({x: -1, y: 0})}, Not(x == 0): {frozendict.frozendict({x: 1, y: 2}), frozendict.frozendict({x: -1, y: -2}), frozendict.frozendict({x: -1, y: 0}), frozendict.frozendict({x: -1, y: -1})}, 0 >= y: {frozendict.frozendict({x: -1, y: -2}), frozendict.frozendict({x: 0, y: -1}), frozendict.frozendict({x: -1, y: 0}), frozendict.frozendict({x: -1, y: -1})}, Not(y >= 0): {frozendict.frozendict({x: -1, y: -2}), frozendict.frozendict({x: 0, y: -1}), frozendict.frozendict({x: -1, y: -1})}, Not(x == 1): {frozendict.frozendict({x: -1, y: -2}), frozendict.frozendict({x: 0, y: -1}), frozendict.frozendict({x: -1, y: 0}), frozendict.frozendict({x: -1, y: -1})}, 0 >= x: {frozendict.frozendict({x: -1, y: -2}), frozendict.frozendict({x: 0, y: -1}), frozendict.frozendict({x: -1, y: 0}), frozendict.frozendict({x: -1, y: -1})}, Not(y >= 1): {frozendict.frozendict({x: -1, y: -2}), frozendict.frozendict({x: 0, y: -1}), frozendict.frozendict({x: -1, y: 0}), frozendict.frozendict({x: -1, y: -1})}, y <= 0: {frozendict.frozendict({x: -1, y: -2}), frozendict.frozendict({x: 0, y: -1}), frozendict.frozendict({x: -1, y: 0}), frozendict.frozendict({x: -1, y: -1})}, x == 1: {frozendict.frozendict({x: 1, y: 2})}, y == x: {frozendict.frozendict({x: -1, y: -1})}, Not(0 >= x): {frozendict.frozendict({x: 1, y: 2})}, x <= 1: {frozendict.frozendict({x: -1, y: -1}), frozendict.frozendict({x: 1, y: 2}), frozendict.frozendict({x: -1, y: -2}), frozendict.frozendict({x: 0, y: -1}), frozendict.frozendict({x: -1, y: 0})}, x >= 0: {frozendict.frozendict({x: 1, y: 2}), frozendict.frozendict({x: 0, y: -1})}, Not(0 >= y): {frozendict.frozendict({x: 1, y: 2})}, y <= x: {frozendict.frozendict({x: -1, y: -2}), frozendict.frozendict({x: 0, y: -1}), frozendict.frozendict({x: -1, y: -1})}, 0 == y: {frozendict.frozendict({x: -1, y: 0})}, 0 == x: {frozendict.frozendict({x: 0, y: -1})}, x >= y: {frozendict.frozendict({x: -1, y: -2}), frozendict.frozendict({x: 0, y: -1}), frozendict.frozendict({x: -1, y: -1})}, 0 <= y: {frozendict.frozendict({x: 1, y: 2}), frozendict.frozendict({x: -1, y: 0})}, Not(x >= y): {frozendict.frozendict({x: 1, y: 2}), frozendict.frozendict({x: -1, y: 0})}, 0 <= x: {frozendict.frozendict({x: 1, y: 2}), frozendict.frozendict({x: 0, y: -1})}, Not(y == 0): {frozendict.frozendict({x: 1, y: 2}), frozendict.frozendict({x: -1, y: -2}), frozendict.frozendict({x: 0, y: -1}), frozendict.frozendict({x: -1, y: -1})}, y >= 1: {frozendict.frozendict({x: 1, y: 2})}, Not(y == 1): {frozendict.frozendict({x: -1, y: -1}), frozendict.frozendict({x: 1, y: 2}), frozendict.frozendict({x: -1, y: -2}), frozendict.frozendict({x: 0, y: -1}), frozendict.frozendict({x: -1, y: 0})}, x == 0: {frozendict.frozendict({x: 0, y: -1})}, Not(0 == x): {frozendict.frozendict({x: 1, y: 2}), frozendict.frozendict({x: -1, y: -2}), frozendict.frozendict({x: -1, y: 0}), frozendict.frozendict({x: -1, y: -1})}, Not(1 >= x): set(), x <= 0: {frozendict.frozendict({x: -1, y: -2}), frozendict.frozendict({x: 0, y: -1}), frozendict.frozendict({x: -1, y: 0}), frozendict.frozendict({x: -1, y: -1})}, x == y: {frozendict.frozendict({x: -1, y: -1})}, 1 >= y: {frozendict.frozendict({x: -1, y: -2}), frozendict.frozendict({x: 0, y: -1}), frozendict.frozendict({x: -1, y: 0}), frozendict.frozendict({x: -1, y: -1})}, Not(0 == y): {frozendict.frozendict({x: 1, y: 2}), frozendict.frozendict({x: -1, y: -2}), frozendict.frozendict({x: 0, y: -1}), frozendict.frozendict({x: -1, y: -1})}, 1 >= x: {frozendict.frozendict({x: -1, y: -1}), frozendict.frozendict({x: 1, y: 2}), frozendict.frozendict({x: -1, y: -2}), frozendict.frozendict({x: 0, y: -1}), frozendict.frozendict({x: -1, y: 0})}, x <= y: {frozendict.frozendict({x: 1, y: 2}), frozendict.frozendict({x: -1, y: 0}), frozendict.frozendict({x: -1, y: -1})}, Not(y >= x): {frozendict.frozendict({x: -1, y: -2}), frozendict.frozendict({x: 0, y: -1})}, y == 1: set()}\n",
      "     predicate_to_information_gain_dict: {Not(1 >= y): 1.8958001459468008, Not(x >= 0): 1.9427293615449805, Not(x == y): 1.9455768572569838, Not(x >= 1): 1.8958001459468008, y <= 1: 1.8958001459468008, y >= 0: 1.7814696904532812, 1 == x: 1.8958001459468008, 1 <= y: 1.8958001459468008, x >= 1: 1.8958001459468008, 1 <= x: 1.8958001459468008, y >= x: 1.781469690453281, Not(1 == x): 1.8958001459468008, Not(y == x): 1.9455768572569838, y == 0: 1.8731224545262788, Not(x == 0): 1.8731224545262788, 0 >= y: 1.8958001459468008, Not(y >= 0): 1.7814696904532812, Not(x == 1): 1.8958001459468008, 0 >= x: 1.8958001459468008, Not(y >= 1): 1.8958001459468008, y <= 0: 1.8958001459468008, x == 1: 1.8958001459468008, y == x: 1.9455768572569838, Not(0 >= x): 1.8958001459468008, x >= 0: 1.9427293615449805, Not(0 >= y): 1.8958001459468008, y <= x: 1.7814696904532812, 0 == y: 1.8731224545262788, 0 == x: 1.8731224545262788, x >= y: 1.7814696904532812, 0 <= y: 1.7814696904532812, Not(x >= y): 1.7814696904532812, 0 <= x: 1.9427293615449805, Not(y == 0): 1.8731224545262788, y >= 1: 1.8958001459468008, x == 0: 1.8731224545262788, Not(0 == x): 1.8731224545262788, x <= 0: 1.8958001459468008, x == y: 1.9455768572569838, 1 >= y: 1.8958001459468008, Not(0 == y): 1.8731224545262788, Not(y >= x): 1.781469690453281, x <= y: 1.781469690453281}\n",
      "     predicate: y >= x\n",
      "     left_subtree_counterexample_set: {frozendict.frozendict({x: 1, y: 2}), frozendict.frozendict({x: -1, y: 0}), frozendict.frozendict({x: -1, y: -1})}\n",
      "     left_subtree_term_to_covered_counterexample_set_dict: {x: {frozendict.frozendict({x: -1, y: -1})}, 0: {frozendict.frozendict({x: -1, y: 0})}, 1: set(), y: {frozendict.frozendict({x: 1, y: 2}), frozendict.frozendict({x: -1, y: 0}), frozendict.frozendict({x: -1, y: -1})}}\n",
      "     left_subtree_predicate_set: {Not(1 >= y), Not(x >= 0), Not(x == y), Not(x >= 1), y <= 1, y >= 0, 1 == x, 1 <= y, x >= 1, 1 <= x, Not(1 == x), Not(y == x), y == 0, Not(x == 0), 0 >= y, Not(y >= 0), Not(x == 1), 0 >= x, Not(y >= 1), y <= 0, x == 1, y == x, Not(0 >= x), x >= 0, Not(0 >= y), y <= x, 0 == y, 0 == x, x >= y, 0 <= y, Not(x >= y), 0 <= x, Not(y == 0), y >= 1, x == 0, Not(0 == x), x <= 0, x == y, 1 >= y, Not(0 == y), Not(y >= x), x <= y}\n",
      "     left_subtree_predicate_to_covered_counterexample_set_dict: {Not(1 >= y): {frozendict.frozendict({x: 1, y: 2})}, Not(x >= 0): {frozendict.frozendict({x: -1, y: 0}), frozendict.frozendict({x: -1, y: -1})}, Not(x == y): {frozendict.frozendict({x: 1, y: 2}), frozendict.frozendict({x: -1, y: 0})}, Not(x >= 1): {frozendict.frozendict({x: -1, y: 0}), frozendict.frozendict({x: -1, y: -1})}, y <= 1: {frozendict.frozendict({x: -1, y: 0}), frozendict.frozendict({x: -1, y: -1})}, y >= 0: {frozendict.frozendict({x: 1, y: 2}), frozendict.frozendict({x: -1, y: 0})}, 1 == x: {frozendict.frozendict({x: 1, y: 2})}, 1 <= y: {frozendict.frozendict({x: 1, y: 2})}, x >= 1: {frozendict.frozendict({x: 1, y: 2})}, 1 <= x: {frozendict.frozendict({x: 1, y: 2})}, Not(1 == x): {frozendict.frozendict({x: -1, y: 0}), frozendict.frozendict({x: -1, y: -1})}, Not(y == x): {frozendict.frozendict({x: 1, y: 2}), frozendict.frozendict({x: -1, y: 0})}, y == 0: {frozendict.frozendict({x: -1, y: 0})}, Not(x == 0): {frozendict.frozendict({x: 1, y: 2}), frozendict.frozendict({x: -1, y: 0}), frozendict.frozendict({x: -1, y: -1})}, 0 >= y: {frozendict.frozendict({x: -1, y: 0}), frozendict.frozendict({x: -1, y: -1})}, Not(y >= 0): {frozendict.frozendict({x: -1, y: -1})}, Not(x == 1): {frozendict.frozendict({x: -1, y: 0}), frozendict.frozendict({x: -1, y: -1})}, 0 >= x: {frozendict.frozendict({x: -1, y: 0}), frozendict.frozendict({x: -1, y: -1})}, Not(y >= 1): {frozendict.frozendict({x: -1, y: 0}), frozendict.frozendict({x: -1, y: -1})}, y <= 0: {frozendict.frozendict({x: -1, y: 0}), frozendict.frozendict({x: -1, y: -1})}, x == 1: {frozendict.frozendict({x: 1, y: 2})}, y == x: {frozendict.frozendict({x: -1, y: -1})}, Not(0 >= x): {frozendict.frozendict({x: 1, y: 2})}, x >= 0: {frozendict.frozendict({x: 1, y: 2})}, Not(0 >= y): {frozendict.frozendict({x: 1, y: 2})}, y <= x: {frozendict.frozendict({x: -1, y: -1})}, 0 == y: {frozendict.frozendict({x: -1, y: 0})}, 0 == x: set(), x >= y: {frozendict.frozendict({x: -1, y: -1})}, 0 <= y: {frozendict.frozendict({x: 1, y: 2}), frozendict.frozendict({x: -1, y: 0})}, Not(x >= y): {frozendict.frozendict({x: 1, y: 2}), frozendict.frozendict({x: -1, y: 0})}, 0 <= x: {frozendict.frozendict({x: 1, y: 2})}, Not(y == 0): {frozendict.frozendict({x: 1, y: 2}), frozendict.frozendict({x: -1, y: -1})}, y >= 1: {frozendict.frozendict({x: 1, y: 2})}, x == 0: set(), Not(0 == x): {frozendict.frozendict({x: 1, y: 2}), frozendict.frozendict({x: -1, y: 0}), frozendict.frozendict({x: -1, y: -1})}, x <= 0: {frozendict.frozendict({x: -1, y: 0}), frozendict.frozendict({x: -1, y: -1})}, x == y: {frozendict.frozendict({x: -1, y: -1})}, 1 >= y: {frozendict.frozendict({x: -1, y: 0}), frozendict.frozendict({x: -1, y: -1})}, Not(0 == y): {frozendict.frozendict({x: 1, y: 2}), frozendict.frozendict({x: -1, y: -1})}, Not(y >= x): set(), x <= y: {frozendict.frozendict({x: 1, y: 2}), frozendict.frozendict({x: -1, y: 0}), frozendict.frozendict({x: -1, y: -1})}}\n",
      "         construct_decision_tree {frozendict.frozendict({x: 1, y: 2}), frozendict.frozendict({x: -1, y: 0}), frozendict.frozendict({x: -1, y: -1})} {x: {frozendict.frozendict({x: -1, y: -1})}, 0: {frozendict.frozendict({x: -1, y: 0})}, 1: set(), y: {frozendict.frozendict({x: 1, y: 2}), frozendict.frozendict({x: -1, y: 0}), frozendict.frozendict({x: -1, y: -1})}} {Not(1 >= y), Not(x >= 0), Not(x == y), Not(x >= 1), y <= 1, y >= 0, 1 == x, 1 <= y, x >= 1, 1 <= x, Not(1 == x), Not(y == x), y == 0, Not(x == 0), 0 >= y, Not(y >= 0), Not(x == 1), 0 >= x, Not(y >= 1), y <= 0, x == 1, y == x, Not(0 >= x), x >= 0, Not(0 >= y), y <= x, 0 == y, 0 == x, x >= y, 0 <= y, Not(x >= y), 0 <= x, Not(y == 0), y >= 1, x == 0, Not(0 == x), x <= 0, x == y, 1 >= y, Not(0 == y), Not(y >= x), x <= y} {Not(1 >= y): {frozendict.frozendict({x: 1, y: 2})}, Not(x >= 0): {frozendict.frozendict({x: -1, y: 0}), frozendict.frozendict({x: -1, y: -1})}, Not(x == y): {frozendict.frozendict({x: 1, y: 2}), frozendict.frozendict({x: -1, y: 0})}, Not(x >= 1): {frozendict.frozendict({x: -1, y: 0}), frozendict.frozendict({x: -1, y: -1})}, y <= 1: {frozendict.frozendict({x: -1, y: 0}), frozendict.frozendict({x: -1, y: -1})}, y >= 0: {frozendict.frozendict({x: 1, y: 2}), frozendict.frozendict({x: -1, y: 0})}, 1 == x: {frozendict.frozendict({x: 1, y: 2})}, 1 <= y: {frozendict.frozendict({x: 1, y: 2})}, x >= 1: {frozendict.frozendict({x: 1, y: 2})}, 1 <= x: {frozendict.frozendict({x: 1, y: 2})}, Not(1 == x): {frozendict.frozendict({x: -1, y: 0}), frozendict.frozendict({x: -1, y: -1})}, Not(y == x): {frozendict.frozendict({x: 1, y: 2}), frozendict.frozendict({x: -1, y: 0})}, y == 0: {frozendict.frozendict({x: -1, y: 0})}, Not(x == 0): {frozendict.frozendict({x: 1, y: 2}), frozendict.frozendict({x: -1, y: 0}), frozendict.frozendict({x: -1, y: -1})}, 0 >= y: {frozendict.frozendict({x: -1, y: 0}), frozendict.frozendict({x: -1, y: -1})}, Not(y >= 0): {frozendict.frozendict({x: -1, y: -1})}, Not(x == 1): {frozendict.frozendict({x: -1, y: 0}), frozendict.frozendict({x: -1, y: -1})}, 0 >= x: {frozendict.frozendict({x: -1, y: 0}), frozendict.frozendict({x: -1, y: -1})}, Not(y >= 1): {frozendict.frozendict({x: -1, y: 0}), frozendict.frozendict({x: -1, y: -1})}, y <= 0: {frozendict.frozendict({x: -1, y: 0}), frozendict.frozendict({x: -1, y: -1})}, x == 1: {frozendict.frozendict({x: 1, y: 2})}, y == x: {frozendict.frozendict({x: -1, y: -1})}, Not(0 >= x): {frozendict.frozendict({x: 1, y: 2})}, x >= 0: {frozendict.frozendict({x: 1, y: 2})}, Not(0 >= y): {frozendict.frozendict({x: 1, y: 2})}, y <= x: {frozendict.frozendict({x: -1, y: -1})}, 0 == y: {frozendict.frozendict({x: -1, y: 0})}, 0 == x: set(), x >= y: {frozendict.frozendict({x: -1, y: -1})}, 0 <= y: {frozendict.frozendict({x: 1, y: 2}), frozendict.frozendict({x: -1, y: 0})}, Not(x >= y): {frozendict.frozendict({x: 1, y: 2}), frozendict.frozendict({x: -1, y: 0})}, 0 <= x: {frozendict.frozendict({x: 1, y: 2})}, Not(y == 0): {frozendict.frozendict({x: 1, y: 2}), frozendict.frozendict({x: -1, y: -1})}, y >= 1: {frozendict.frozendict({x: 1, y: 2})}, x == 0: set(), Not(0 == x): {frozendict.frozendict({x: 1, y: 2}), frozendict.frozendict({x: -1, y: 0}), frozendict.frozendict({x: -1, y: -1})}, x <= 0: {frozendict.frozendict({x: -1, y: 0}), frozendict.frozendict({x: -1, y: -1})}, x == y: {frozendict.frozendict({x: -1, y: -1})}, 1 >= y: {frozendict.frozendict({x: -1, y: 0}), frozendict.frozendict({x: -1, y: -1})}, Not(0 == y): {frozendict.frozendict({x: 1, y: 2}), frozendict.frozendict({x: -1, y: -1})}, Not(y >= x): set(), x <= y: {frozendict.frozendict({x: 1, y: 2}), frozendict.frozendict({x: -1, y: 0}), frozendict.frozendict({x: -1, y: -1})}}\n",
      "         y covers all counterexamples, yielding\n",
      "     right_subtree_counterexample_set: {frozendict.frozendict({x: -1, y: -2}), frozendict.frozendict({x: 0, y: -1})}\n",
      "     right_subtree_term_to_covered_counterexample_set_dict: {x: {frozendict.frozendict({x: -1, y: -2}), frozendict.frozendict({x: 0, y: -1})}, 0: {frozendict.frozendict({x: 0, y: -1})}, 1: set(), y: set()}\n",
      "     right_subtree_predicate_set: {Not(1 >= y), Not(x >= 0), Not(x == y), Not(x >= 1), y <= 1, y >= 0, 1 == x, 1 <= y, x >= 1, 1 <= x, Not(1 == x), Not(y == x), y == 0, Not(x == 0), 0 >= y, Not(y >= 0), Not(x == 1), 0 >= x, Not(y >= 1), y <= 0, x == 1, y == x, Not(0 >= x), x >= 0, Not(0 >= y), y <= x, 0 == y, 0 == x, x >= y, 0 <= y, Not(x >= y), 0 <= x, Not(y == 0), y >= 1, x == 0, Not(0 == x), x <= 0, x == y, 1 >= y, Not(0 == y), Not(y >= x), x <= y}\n",
      "     right_subtree_predicate_to_covered_counterexample_set_dict: {Not(1 >= y): set(), Not(x >= 0): {frozendict.frozendict({x: -1, y: -2})}, Not(x == y): {frozendict.frozendict({x: -1, y: -2}), frozendict.frozendict({x: 0, y: -1})}, Not(x >= 1): {frozendict.frozendict({x: -1, y: -2}), frozendict.frozendict({x: 0, y: -1})}, y <= 1: {frozendict.frozendict({x: -1, y: -2}), frozendict.frozendict({x: 0, y: -1})}, y >= 0: set(), 1 == x: set(), 1 <= y: set(), x >= 1: set(), 1 <= x: set(), Not(1 == x): {frozendict.frozendict({x: -1, y: -2}), frozendict.frozendict({x: 0, y: -1})}, Not(y == x): {frozendict.frozendict({x: -1, y: -2}), frozendict.frozendict({x: 0, y: -1})}, y == 0: set(), Not(x == 0): {frozendict.frozendict({x: -1, y: -2})}, 0 >= y: {frozendict.frozendict({x: -1, y: -2}), frozendict.frozendict({x: 0, y: -1})}, Not(y >= 0): {frozendict.frozendict({x: -1, y: -2}), frozendict.frozendict({x: 0, y: -1})}, Not(x == 1): {frozendict.frozendict({x: -1, y: -2}), frozendict.frozendict({x: 0, y: -1})}, 0 >= x: {frozendict.frozendict({x: -1, y: -2}), frozendict.frozendict({x: 0, y: -1})}, Not(y >= 1): {frozendict.frozendict({x: -1, y: -2}), frozendict.frozendict({x: 0, y: -1})}, y <= 0: {frozendict.frozendict({x: -1, y: -2}), frozendict.frozendict({x: 0, y: -1})}, x == 1: set(), y == x: set(), Not(0 >= x): set(), x >= 0: {frozendict.frozendict({x: 0, y: -1})}, Not(0 >= y): set(), y <= x: {frozendict.frozendict({x: -1, y: -2}), frozendict.frozendict({x: 0, y: -1})}, 0 == y: set(), 0 == x: {frozendict.frozendict({x: 0, y: -1})}, x >= y: {frozendict.frozendict({x: -1, y: -2}), frozendict.frozendict({x: 0, y: -1})}, 0 <= y: set(), Not(x >= y): set(), 0 <= x: {frozendict.frozendict({x: 0, y: -1})}, Not(y == 0): {frozendict.frozendict({x: -1, y: -2}), frozendict.frozendict({x: 0, y: -1})}, y >= 1: set(), x == 0: {frozendict.frozendict({x: 0, y: -1})}, Not(0 == x): {frozendict.frozendict({x: -1, y: -2})}, x <= 0: {frozendict.frozendict({x: -1, y: -2}), frozendict.frozendict({x: 0, y: -1})}, x == y: set(), 1 >= y: {frozendict.frozendict({x: -1, y: -2}), frozendict.frozendict({x: 0, y: -1})}, Not(0 == y): {frozendict.frozendict({x: -1, y: -2}), frozendict.frozendict({x: 0, y: -1})}, Not(y >= x): {frozendict.frozendict({x: -1, y: -2}), frozendict.frozendict({x: 0, y: -1})}, x <= y: set()}\n",
      "         construct_decision_tree {frozendict.frozendict({x: -1, y: -2}), frozendict.frozendict({x: 0, y: -1})} {x: {frozendict.frozendict({x: -1, y: -2}), frozendict.frozendict({x: 0, y: -1})}, 0: {frozendict.frozendict({x: 0, y: -1})}, 1: set(), y: set()} {Not(1 >= y), Not(x >= 0), Not(x == y), Not(x >= 1), y <= 1, y >= 0, 1 == x, 1 <= y, x >= 1, 1 <= x, Not(1 == x), Not(y == x), y == 0, Not(x == 0), 0 >= y, Not(y >= 0), Not(x == 1), 0 >= x, Not(y >= 1), y <= 0, x == 1, y == x, Not(0 >= x), x >= 0, Not(0 >= y), y <= x, 0 == y, 0 == x, x >= y, 0 <= y, Not(x >= y), 0 <= x, Not(y == 0), y >= 1, x == 0, Not(0 == x), x <= 0, x == y, 1 >= y, Not(0 == y), Not(y >= x), x <= y} "
     ]
    },
    {
     "name": "stdout",
     "output_type": "stream",
     "text": [
      "z3_counterexample_input frozendict.frozendict({x: 1, y: 2})\n"
     ]
    },
    {
     "name": "stderr",
     "output_type": "stream",
     "text": [
      "{Not(1 >= y): set(), Not(x >= 0): {frozendict.frozendict({x: -1, y: -2})}, Not(x == y): {frozendict.frozendict({x: -1, y: -2}), frozendict.frozendict({x: 0, y: -1})}, Not(x >= 1): {frozendict.frozendict({x: -1, y: -2}), frozendict.frozendict({x: 0, y: -1})}, y <= 1: {frozendict.frozendict({x: -1, y: -2}), frozendict.frozendict({x: 0, y: -1})}, y >= 0: set(), 1 == x: set(), 1 <= y: set(), x >= 1: set(), 1 <= x: set(), Not(1 == x): {frozendict.frozendict({x: -1, y: -2}), frozendict.frozendict({x: 0, y: -1})}, Not(y == x): {frozendict.frozendict({x: -1, y: -2}), frozendict.frozendict({x: 0, y: -1})}, y == 0: set(), Not(x == 0): {frozendict.frozendict({x: -1, y: -2})}, 0 >= y: {frozendict.frozendict({x: -1, y: -2}), frozendict.frozendict({x: 0, y: -1})}, Not(y >= 0): {frozendict.frozendict({x: -1, y: -2}), frozendict.frozendict({x: 0, y: -1})}, Not(x == 1): {frozendict.frozendict({x: -1, y: -2}), frozendict.frozendict({x: 0, y: -1})}, 0 >= x: {frozendict.frozendict({x: -1, y: -2}), frozendict.frozendict({x: 0, y: -1})}, Not(y >= 1): {frozendict.frozendict({x: -1, y: -2}), frozendict.frozendict({x: 0, y: -1})}, y <= 0: {frozendict.frozendict({x: -1, y: -2}), frozendict.frozendict({x: 0, y: -1})}, x == 1: set(), y == x: set(), Not(0 >= x): set(), x >= 0: {frozendict.frozendict({x: 0, y: -1})}, Not(0 >= y): set(), y <= x: {frozendict.frozendict({x: -1, y: -2}), frozendict.frozendict({x: 0, y: -1})}, 0 == y: set(), 0 == x: {frozendict.frozendict({x: 0, y: -1})}, x >= y: {frozendict.frozendict({x: -1, y: -2}), frozendict.frozendict({x: 0, y: -1})}, 0 <= y: set(), Not(x >= y): set(), 0 <= x: {frozendict.frozendict({x: 0, y: -1})}, Not(y == 0): {frozendict.frozendict({x: -1, y: -2}), frozendict.frozendict({x: 0, y: -1})}, y >= 1: set(), x == 0: {frozendict.frozendict({x: 0, y: -1})}, Not(0 == x): {frozendict.frozendict({x: -1, y: -2})}, x <= 0: {frozendict.frozendict({x: -1, y: -2}), frozendict.frozendict({x: 0, y: -1})}, x == y: set(), 1 >= y: {frozendict.frozendict({x: -1, y: -2}), frozendict.frozendict({x: 0, y: -1})}, Not(0 == y): {frozendict.frozendict({x: -1, y: -2}), frozendict.frozendict({x: 0, y: -1})}, Not(y >= x): {frozendict.frozendict({x: -1, y: -2}), frozendict.frozendict({x: 0, y: -1})}, x <= y: set()}\n",
      "         x covers all counterexamples, yielding\n",
      "     yielding If(y >= x, y, x)\n",
      " decision_tree: If(y >= x, y, x)\n"
     ]
    }
   ],
   "source": [
    "print(f'z3_expr_ref {z3_expr_ref}')\n",
    "\n",
    "z3_counterexample_input = z3_verification_oracle_instance.send(z3_expr_ref)\n",
    "\n",
    "if z3_counterexample_input is not None:\n",
    "    z3_expr_ref = z3_divide_and_conquer_enumerative_approach_instance.send(z3_counterexample_input)\n",
    "    \n",
    "print(f'z3_counterexample_input {z3_counterexample_input}')"
   ]
  },
  {
   "cell_type": "code",
   "execution_count": 10,
   "id": "5ad80c51-6e75-484d-9018-ad971c45366d",
   "metadata": {},
   "outputs": [
    {
     "name": "stdout",
     "output_type": "stream",
     "text": [
      "z3_expr_ref If(y >= x, y, x)\n",
      "z3_counterexample_input None\n"
     ]
    }
   ],
   "source": [
    "print(f'z3_expr_ref {z3_expr_ref}')\n",
    "\n",
    "z3_counterexample_input = z3_verification_oracle_instance.send(z3_expr_ref)\n",
    "\n",
    "if z3_counterexample_input is not None:\n",
    "    z3_expr_ref = z3_divide_and_conquer_enumerative_approach_instance.send(z3_counterexample_input)\n",
    "    \n",
    "print(f'z3_counterexample_input {z3_counterexample_input}')"
   ]
  },
  {
   "cell_type": "code",
   "execution_count": null,
   "id": "ec8f73c5-1447-41ea-af09-12f6b03bd6e4",
   "metadata": {},
   "outputs": [],
   "source": []
  }
 ],
 "metadata": {
  "kernelspec": {
   "display_name": "Python 3 (ipykernel)",
   "language": "python",
   "name": "python3"
  },
  "language_info": {
   "codemirror_mode": {
    "name": "ipython",
    "version": 3
   },
   "file_extension": ".py",
   "mimetype": "text/x-python",
   "name": "python",
   "nbconvert_exporter": "python",
   "pygments_lexer": "ipython3",
   "version": "3.8.13"
  }
 },
 "nbformat": 4,
 "nbformat_minor": 5
}
